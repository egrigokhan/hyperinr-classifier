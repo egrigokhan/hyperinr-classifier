{
  "nbformat": 4,
  "nbformat_minor": 0,
  "metadata": {
    "accelerator": "GPU",
    "colab": {
      "name": "MNISTSiren+ClassifierwithLatent/Weights.ipynb",
      "provenance": [],
      "collapsed_sections": [],
      "toc_visible": true
    },
    "kernelspec": {
      "display_name": "Python 3",
      "name": "python3"
    },
    "language_info": {
      "name": "python"
    },
    "widgets": {
      "application/vnd.jupyter.widget-state+json": {
        "7da6fc122afd485f99270722e4937214": {
          "model_module": "@jupyter-widgets/controls",
          "model_name": "HBoxModel",
          "state": {
            "_view_name": "HBoxView",
            "_dom_classes": [],
            "_model_name": "HBoxModel",
            "_view_module": "@jupyter-widgets/controls",
            "_model_module_version": "1.5.0",
            "_view_count": null,
            "_view_module_version": "1.5.0",
            "box_style": "",
            "layout": "IPY_MODEL_7cc8ab71da0c42a682c817e958d062de",
            "_model_module": "@jupyter-widgets/controls",
            "children": [
              "IPY_MODEL_413fe257c06f4b6286e1154f79da099c",
              "IPY_MODEL_5617926e7d6047d0ab3b772f5ce8264e"
            ]
          }
        },
        "7cc8ab71da0c42a682c817e958d062de": {
          "model_module": "@jupyter-widgets/base",
          "model_name": "LayoutModel",
          "state": {
            "_view_name": "LayoutView",
            "grid_template_rows": null,
            "right": null,
            "justify_content": null,
            "_view_module": "@jupyter-widgets/base",
            "overflow": null,
            "_model_module_version": "1.2.0",
            "_view_count": null,
            "flex_flow": null,
            "width": null,
            "min_width": null,
            "border": null,
            "align_items": null,
            "bottom": null,
            "_model_module": "@jupyter-widgets/base",
            "top": null,
            "grid_column": null,
            "overflow_y": null,
            "overflow_x": null,
            "grid_auto_flow": null,
            "grid_area": null,
            "grid_template_columns": null,
            "flex": null,
            "_model_name": "LayoutModel",
            "justify_items": null,
            "grid_row": null,
            "max_height": null,
            "align_content": null,
            "visibility": null,
            "align_self": null,
            "height": null,
            "min_height": null,
            "padding": null,
            "grid_auto_rows": null,
            "grid_gap": null,
            "max_width": null,
            "order": null,
            "_view_module_version": "1.2.0",
            "grid_template_areas": null,
            "object_position": null,
            "object_fit": null,
            "grid_auto_columns": null,
            "margin": null,
            "display": null,
            "left": null
          }
        },
        "413fe257c06f4b6286e1154f79da099c": {
          "model_module": "@jupyter-widgets/controls",
          "model_name": "FloatProgressModel",
          "state": {
            "_view_name": "ProgressView",
            "style": "IPY_MODEL_f9eefadc0cfd4a7cb59bdd162f9d845f",
            "_dom_classes": [],
            "description": "",
            "_model_name": "FloatProgressModel",
            "bar_style": "success",
            "max": 9912422,
            "_view_module": "@jupyter-widgets/controls",
            "_model_module_version": "1.5.0",
            "value": 9912422,
            "_view_count": null,
            "_view_module_version": "1.5.0",
            "orientation": "horizontal",
            "min": 0,
            "description_tooltip": null,
            "_model_module": "@jupyter-widgets/controls",
            "layout": "IPY_MODEL_829a859b041f4feca097ef936d8de2fd"
          }
        },
        "5617926e7d6047d0ab3b772f5ce8264e": {
          "model_module": "@jupyter-widgets/controls",
          "model_name": "HTMLModel",
          "state": {
            "_view_name": "HTMLView",
            "style": "IPY_MODEL_268ba2b45b254c54b05cc29d7a0643f6",
            "_dom_classes": [],
            "description": "",
            "_model_name": "HTMLModel",
            "placeholder": "​",
            "_view_module": "@jupyter-widgets/controls",
            "_model_module_version": "1.5.0",
            "value": " 9913344/? [05:21&lt;00:00, 30839.41it/s]",
            "_view_count": null,
            "_view_module_version": "1.5.0",
            "description_tooltip": null,
            "_model_module": "@jupyter-widgets/controls",
            "layout": "IPY_MODEL_c96fe502eb09441b9ce9fc79e668404a"
          }
        },
        "f9eefadc0cfd4a7cb59bdd162f9d845f": {
          "model_module": "@jupyter-widgets/controls",
          "model_name": "ProgressStyleModel",
          "state": {
            "_view_name": "StyleView",
            "_model_name": "ProgressStyleModel",
            "description_width": "initial",
            "_view_module": "@jupyter-widgets/base",
            "_model_module_version": "1.5.0",
            "_view_count": null,
            "_view_module_version": "1.2.0",
            "bar_color": null,
            "_model_module": "@jupyter-widgets/controls"
          }
        },
        "829a859b041f4feca097ef936d8de2fd": {
          "model_module": "@jupyter-widgets/base",
          "model_name": "LayoutModel",
          "state": {
            "_view_name": "LayoutView",
            "grid_template_rows": null,
            "right": null,
            "justify_content": null,
            "_view_module": "@jupyter-widgets/base",
            "overflow": null,
            "_model_module_version": "1.2.0",
            "_view_count": null,
            "flex_flow": null,
            "width": null,
            "min_width": null,
            "border": null,
            "align_items": null,
            "bottom": null,
            "_model_module": "@jupyter-widgets/base",
            "top": null,
            "grid_column": null,
            "overflow_y": null,
            "overflow_x": null,
            "grid_auto_flow": null,
            "grid_area": null,
            "grid_template_columns": null,
            "flex": null,
            "_model_name": "LayoutModel",
            "justify_items": null,
            "grid_row": null,
            "max_height": null,
            "align_content": null,
            "visibility": null,
            "align_self": null,
            "height": null,
            "min_height": null,
            "padding": null,
            "grid_auto_rows": null,
            "grid_gap": null,
            "max_width": null,
            "order": null,
            "_view_module_version": "1.2.0",
            "grid_template_areas": null,
            "object_position": null,
            "object_fit": null,
            "grid_auto_columns": null,
            "margin": null,
            "display": null,
            "left": null
          }
        },
        "268ba2b45b254c54b05cc29d7a0643f6": {
          "model_module": "@jupyter-widgets/controls",
          "model_name": "DescriptionStyleModel",
          "state": {
            "_view_name": "StyleView",
            "_model_name": "DescriptionStyleModel",
            "description_width": "",
            "_view_module": "@jupyter-widgets/base",
            "_model_module_version": "1.5.0",
            "_view_count": null,
            "_view_module_version": "1.2.0",
            "_model_module": "@jupyter-widgets/controls"
          }
        },
        "c96fe502eb09441b9ce9fc79e668404a": {
          "model_module": "@jupyter-widgets/base",
          "model_name": "LayoutModel",
          "state": {
            "_view_name": "LayoutView",
            "grid_template_rows": null,
            "right": null,
            "justify_content": null,
            "_view_module": "@jupyter-widgets/base",
            "overflow": null,
            "_model_module_version": "1.2.0",
            "_view_count": null,
            "flex_flow": null,
            "width": null,
            "min_width": null,
            "border": null,
            "align_items": null,
            "bottom": null,
            "_model_module": "@jupyter-widgets/base",
            "top": null,
            "grid_column": null,
            "overflow_y": null,
            "overflow_x": null,
            "grid_auto_flow": null,
            "grid_area": null,
            "grid_template_columns": null,
            "flex": null,
            "_model_name": "LayoutModel",
            "justify_items": null,
            "grid_row": null,
            "max_height": null,
            "align_content": null,
            "visibility": null,
            "align_self": null,
            "height": null,
            "min_height": null,
            "padding": null,
            "grid_auto_rows": null,
            "grid_gap": null,
            "max_width": null,
            "order": null,
            "_view_module_version": "1.2.0",
            "grid_template_areas": null,
            "object_position": null,
            "object_fit": null,
            "grid_auto_columns": null,
            "margin": null,
            "display": null,
            "left": null
          }
        },
        "3e219e7c4c204a099d3da73b8a0b5dcd": {
          "model_module": "@jupyter-widgets/controls",
          "model_name": "HBoxModel",
          "state": {
            "_view_name": "HBoxView",
            "_dom_classes": [],
            "_model_name": "HBoxModel",
            "_view_module": "@jupyter-widgets/controls",
            "_model_module_version": "1.5.0",
            "_view_count": null,
            "_view_module_version": "1.5.0",
            "box_style": "",
            "layout": "IPY_MODEL_07579650bce24c73865a21abdc89e1c8",
            "_model_module": "@jupyter-widgets/controls",
            "children": [
              "IPY_MODEL_140ea4c40ad84c61bcd5ed76ff7b0c2d",
              "IPY_MODEL_34ea8697de0541828ad581cdc4220b49"
            ]
          }
        },
        "07579650bce24c73865a21abdc89e1c8": {
          "model_module": "@jupyter-widgets/base",
          "model_name": "LayoutModel",
          "state": {
            "_view_name": "LayoutView",
            "grid_template_rows": null,
            "right": null,
            "justify_content": null,
            "_view_module": "@jupyter-widgets/base",
            "overflow": null,
            "_model_module_version": "1.2.0",
            "_view_count": null,
            "flex_flow": null,
            "width": null,
            "min_width": null,
            "border": null,
            "align_items": null,
            "bottom": null,
            "_model_module": "@jupyter-widgets/base",
            "top": null,
            "grid_column": null,
            "overflow_y": null,
            "overflow_x": null,
            "grid_auto_flow": null,
            "grid_area": null,
            "grid_template_columns": null,
            "flex": null,
            "_model_name": "LayoutModel",
            "justify_items": null,
            "grid_row": null,
            "max_height": null,
            "align_content": null,
            "visibility": null,
            "align_self": null,
            "height": null,
            "min_height": null,
            "padding": null,
            "grid_auto_rows": null,
            "grid_gap": null,
            "max_width": null,
            "order": null,
            "_view_module_version": "1.2.0",
            "grid_template_areas": null,
            "object_position": null,
            "object_fit": null,
            "grid_auto_columns": null,
            "margin": null,
            "display": null,
            "left": null
          }
        },
        "140ea4c40ad84c61bcd5ed76ff7b0c2d": {
          "model_module": "@jupyter-widgets/controls",
          "model_name": "FloatProgressModel",
          "state": {
            "_view_name": "ProgressView",
            "style": "IPY_MODEL_23d4e7e26c154da9a0cad9b906faded9",
            "_dom_classes": [],
            "description": "",
            "_model_name": "FloatProgressModel",
            "bar_style": "success",
            "max": 28881,
            "_view_module": "@jupyter-widgets/controls",
            "_model_module_version": "1.5.0",
            "value": 28881,
            "_view_count": null,
            "_view_module_version": "1.5.0",
            "orientation": "horizontal",
            "min": 0,
            "description_tooltip": null,
            "_model_module": "@jupyter-widgets/controls",
            "layout": "IPY_MODEL_e6c86b0f002b46cd936f10ffb31eeb18"
          }
        },
        "34ea8697de0541828ad581cdc4220b49": {
          "model_module": "@jupyter-widgets/controls",
          "model_name": "HTMLModel",
          "state": {
            "_view_name": "HTMLView",
            "style": "IPY_MODEL_87dc9916f5a04c14995fabf4bb3f034c",
            "_dom_classes": [],
            "description": "",
            "_model_name": "HTMLModel",
            "placeholder": "​",
            "_view_module": "@jupyter-widgets/controls",
            "_model_module_version": "1.5.0",
            "value": " 29696/? [00:00&lt;00:00, 58001.61it/s]",
            "_view_count": null,
            "_view_module_version": "1.5.0",
            "description_tooltip": null,
            "_model_module": "@jupyter-widgets/controls",
            "layout": "IPY_MODEL_8567acffd4844c78a9907a2db4dfba13"
          }
        },
        "23d4e7e26c154da9a0cad9b906faded9": {
          "model_module": "@jupyter-widgets/controls",
          "model_name": "ProgressStyleModel",
          "state": {
            "_view_name": "StyleView",
            "_model_name": "ProgressStyleModel",
            "description_width": "initial",
            "_view_module": "@jupyter-widgets/base",
            "_model_module_version": "1.5.0",
            "_view_count": null,
            "_view_module_version": "1.2.0",
            "bar_color": null,
            "_model_module": "@jupyter-widgets/controls"
          }
        },
        "e6c86b0f002b46cd936f10ffb31eeb18": {
          "model_module": "@jupyter-widgets/base",
          "model_name": "LayoutModel",
          "state": {
            "_view_name": "LayoutView",
            "grid_template_rows": null,
            "right": null,
            "justify_content": null,
            "_view_module": "@jupyter-widgets/base",
            "overflow": null,
            "_model_module_version": "1.2.0",
            "_view_count": null,
            "flex_flow": null,
            "width": null,
            "min_width": null,
            "border": null,
            "align_items": null,
            "bottom": null,
            "_model_module": "@jupyter-widgets/base",
            "top": null,
            "grid_column": null,
            "overflow_y": null,
            "overflow_x": null,
            "grid_auto_flow": null,
            "grid_area": null,
            "grid_template_columns": null,
            "flex": null,
            "_model_name": "LayoutModel",
            "justify_items": null,
            "grid_row": null,
            "max_height": null,
            "align_content": null,
            "visibility": null,
            "align_self": null,
            "height": null,
            "min_height": null,
            "padding": null,
            "grid_auto_rows": null,
            "grid_gap": null,
            "max_width": null,
            "order": null,
            "_view_module_version": "1.2.0",
            "grid_template_areas": null,
            "object_position": null,
            "object_fit": null,
            "grid_auto_columns": null,
            "margin": null,
            "display": null,
            "left": null
          }
        },
        "87dc9916f5a04c14995fabf4bb3f034c": {
          "model_module": "@jupyter-widgets/controls",
          "model_name": "DescriptionStyleModel",
          "state": {
            "_view_name": "StyleView",
            "_model_name": "DescriptionStyleModel",
            "description_width": "",
            "_view_module": "@jupyter-widgets/base",
            "_model_module_version": "1.5.0",
            "_view_count": null,
            "_view_module_version": "1.2.0",
            "_model_module": "@jupyter-widgets/controls"
          }
        },
        "8567acffd4844c78a9907a2db4dfba13": {
          "model_module": "@jupyter-widgets/base",
          "model_name": "LayoutModel",
          "state": {
            "_view_name": "LayoutView",
            "grid_template_rows": null,
            "right": null,
            "justify_content": null,
            "_view_module": "@jupyter-widgets/base",
            "overflow": null,
            "_model_module_version": "1.2.0",
            "_view_count": null,
            "flex_flow": null,
            "width": null,
            "min_width": null,
            "border": null,
            "align_items": null,
            "bottom": null,
            "_model_module": "@jupyter-widgets/base",
            "top": null,
            "grid_column": null,
            "overflow_y": null,
            "overflow_x": null,
            "grid_auto_flow": null,
            "grid_area": null,
            "grid_template_columns": null,
            "flex": null,
            "_model_name": "LayoutModel",
            "justify_items": null,
            "grid_row": null,
            "max_height": null,
            "align_content": null,
            "visibility": null,
            "align_self": null,
            "height": null,
            "min_height": null,
            "padding": null,
            "grid_auto_rows": null,
            "grid_gap": null,
            "max_width": null,
            "order": null,
            "_view_module_version": "1.2.0",
            "grid_template_areas": null,
            "object_position": null,
            "object_fit": null,
            "grid_auto_columns": null,
            "margin": null,
            "display": null,
            "left": null
          }
        },
        "f69b96835ce548fe81c84927a274c0b6": {
          "model_module": "@jupyter-widgets/controls",
          "model_name": "HBoxModel",
          "state": {
            "_view_name": "HBoxView",
            "_dom_classes": [],
            "_model_name": "HBoxModel",
            "_view_module": "@jupyter-widgets/controls",
            "_model_module_version": "1.5.0",
            "_view_count": null,
            "_view_module_version": "1.5.0",
            "box_style": "",
            "layout": "IPY_MODEL_7440524dcd5443ec82d6005e4a98d1df",
            "_model_module": "@jupyter-widgets/controls",
            "children": [
              "IPY_MODEL_42e5055ee2014a8a8511e84cc05f1a4e",
              "IPY_MODEL_cf9d2f8e04a74dd0be665babe0a3f7e0"
            ]
          }
        },
        "7440524dcd5443ec82d6005e4a98d1df": {
          "model_module": "@jupyter-widgets/base",
          "model_name": "LayoutModel",
          "state": {
            "_view_name": "LayoutView",
            "grid_template_rows": null,
            "right": null,
            "justify_content": null,
            "_view_module": "@jupyter-widgets/base",
            "overflow": null,
            "_model_module_version": "1.2.0",
            "_view_count": null,
            "flex_flow": null,
            "width": null,
            "min_width": null,
            "border": null,
            "align_items": null,
            "bottom": null,
            "_model_module": "@jupyter-widgets/base",
            "top": null,
            "grid_column": null,
            "overflow_y": null,
            "overflow_x": null,
            "grid_auto_flow": null,
            "grid_area": null,
            "grid_template_columns": null,
            "flex": null,
            "_model_name": "LayoutModel",
            "justify_items": null,
            "grid_row": null,
            "max_height": null,
            "align_content": null,
            "visibility": null,
            "align_self": null,
            "height": null,
            "min_height": null,
            "padding": null,
            "grid_auto_rows": null,
            "grid_gap": null,
            "max_width": null,
            "order": null,
            "_view_module_version": "1.2.0",
            "grid_template_areas": null,
            "object_position": null,
            "object_fit": null,
            "grid_auto_columns": null,
            "margin": null,
            "display": null,
            "left": null
          }
        },
        "42e5055ee2014a8a8511e84cc05f1a4e": {
          "model_module": "@jupyter-widgets/controls",
          "model_name": "FloatProgressModel",
          "state": {
            "_view_name": "ProgressView",
            "style": "IPY_MODEL_a209e974c3b94975a86500a730c7fafd",
            "_dom_classes": [],
            "description": "",
            "_model_name": "FloatProgressModel",
            "bar_style": "success",
            "max": 1648877,
            "_view_module": "@jupyter-widgets/controls",
            "_model_module_version": "1.5.0",
            "value": 1648877,
            "_view_count": null,
            "_view_module_version": "1.5.0",
            "orientation": "horizontal",
            "min": 0,
            "description_tooltip": null,
            "_model_module": "@jupyter-widgets/controls",
            "layout": "IPY_MODEL_23e2a2ed4985460db811d06949e66ea4"
          }
        },
        "cf9d2f8e04a74dd0be665babe0a3f7e0": {
          "model_module": "@jupyter-widgets/controls",
          "model_name": "HTMLModel",
          "state": {
            "_view_name": "HTMLView",
            "style": "IPY_MODEL_b1be2f487e71426eaa12d90d36bce7e1",
            "_dom_classes": [],
            "description": "",
            "_model_name": "HTMLModel",
            "placeholder": "​",
            "_view_module": "@jupyter-widgets/controls",
            "_model_module_version": "1.5.0",
            "value": " 1649664/? [01:01&lt;00:00, 26923.01it/s]",
            "_view_count": null,
            "_view_module_version": "1.5.0",
            "description_tooltip": null,
            "_model_module": "@jupyter-widgets/controls",
            "layout": "IPY_MODEL_13f2bb4efab74772a86fbde65acbc576"
          }
        },
        "a209e974c3b94975a86500a730c7fafd": {
          "model_module": "@jupyter-widgets/controls",
          "model_name": "ProgressStyleModel",
          "state": {
            "_view_name": "StyleView",
            "_model_name": "ProgressStyleModel",
            "description_width": "initial",
            "_view_module": "@jupyter-widgets/base",
            "_model_module_version": "1.5.0",
            "_view_count": null,
            "_view_module_version": "1.2.0",
            "bar_color": null,
            "_model_module": "@jupyter-widgets/controls"
          }
        },
        "23e2a2ed4985460db811d06949e66ea4": {
          "model_module": "@jupyter-widgets/base",
          "model_name": "LayoutModel",
          "state": {
            "_view_name": "LayoutView",
            "grid_template_rows": null,
            "right": null,
            "justify_content": null,
            "_view_module": "@jupyter-widgets/base",
            "overflow": null,
            "_model_module_version": "1.2.0",
            "_view_count": null,
            "flex_flow": null,
            "width": null,
            "min_width": null,
            "border": null,
            "align_items": null,
            "bottom": null,
            "_model_module": "@jupyter-widgets/base",
            "top": null,
            "grid_column": null,
            "overflow_y": null,
            "overflow_x": null,
            "grid_auto_flow": null,
            "grid_area": null,
            "grid_template_columns": null,
            "flex": null,
            "_model_name": "LayoutModel",
            "justify_items": null,
            "grid_row": null,
            "max_height": null,
            "align_content": null,
            "visibility": null,
            "align_self": null,
            "height": null,
            "min_height": null,
            "padding": null,
            "grid_auto_rows": null,
            "grid_gap": null,
            "max_width": null,
            "order": null,
            "_view_module_version": "1.2.0",
            "grid_template_areas": null,
            "object_position": null,
            "object_fit": null,
            "grid_auto_columns": null,
            "margin": null,
            "display": null,
            "left": null
          }
        },
        "b1be2f487e71426eaa12d90d36bce7e1": {
          "model_module": "@jupyter-widgets/controls",
          "model_name": "DescriptionStyleModel",
          "state": {
            "_view_name": "StyleView",
            "_model_name": "DescriptionStyleModel",
            "description_width": "",
            "_view_module": "@jupyter-widgets/base",
            "_model_module_version": "1.5.0",
            "_view_count": null,
            "_view_module_version": "1.2.0",
            "_model_module": "@jupyter-widgets/controls"
          }
        },
        "13f2bb4efab74772a86fbde65acbc576": {
          "model_module": "@jupyter-widgets/base",
          "model_name": "LayoutModel",
          "state": {
            "_view_name": "LayoutView",
            "grid_template_rows": null,
            "right": null,
            "justify_content": null,
            "_view_module": "@jupyter-widgets/base",
            "overflow": null,
            "_model_module_version": "1.2.0",
            "_view_count": null,
            "flex_flow": null,
            "width": null,
            "min_width": null,
            "border": null,
            "align_items": null,
            "bottom": null,
            "_model_module": "@jupyter-widgets/base",
            "top": null,
            "grid_column": null,
            "overflow_y": null,
            "overflow_x": null,
            "grid_auto_flow": null,
            "grid_area": null,
            "grid_template_columns": null,
            "flex": null,
            "_model_name": "LayoutModel",
            "justify_items": null,
            "grid_row": null,
            "max_height": null,
            "align_content": null,
            "visibility": null,
            "align_self": null,
            "height": null,
            "min_height": null,
            "padding": null,
            "grid_auto_rows": null,
            "grid_gap": null,
            "max_width": null,
            "order": null,
            "_view_module_version": "1.2.0",
            "grid_template_areas": null,
            "object_position": null,
            "object_fit": null,
            "grid_auto_columns": null,
            "margin": null,
            "display": null,
            "left": null
          }
        },
        "11a5020637c44d2aafcfb3229c31d744": {
          "model_module": "@jupyter-widgets/controls",
          "model_name": "HBoxModel",
          "state": {
            "_view_name": "HBoxView",
            "_dom_classes": [],
            "_model_name": "HBoxModel",
            "_view_module": "@jupyter-widgets/controls",
            "_model_module_version": "1.5.0",
            "_view_count": null,
            "_view_module_version": "1.5.0",
            "box_style": "",
            "layout": "IPY_MODEL_29d40e2b90404d0a8ee316a6a0229ed3",
            "_model_module": "@jupyter-widgets/controls",
            "children": [
              "IPY_MODEL_e3ffa2d32e584c118cea32bdaa2e3c02",
              "IPY_MODEL_bd55135593d14c60b8ab3bdc7563c7be"
            ]
          }
        },
        "29d40e2b90404d0a8ee316a6a0229ed3": {
          "model_module": "@jupyter-widgets/base",
          "model_name": "LayoutModel",
          "state": {
            "_view_name": "LayoutView",
            "grid_template_rows": null,
            "right": null,
            "justify_content": null,
            "_view_module": "@jupyter-widgets/base",
            "overflow": null,
            "_model_module_version": "1.2.0",
            "_view_count": null,
            "flex_flow": null,
            "width": null,
            "min_width": null,
            "border": null,
            "align_items": null,
            "bottom": null,
            "_model_module": "@jupyter-widgets/base",
            "top": null,
            "grid_column": null,
            "overflow_y": null,
            "overflow_x": null,
            "grid_auto_flow": null,
            "grid_area": null,
            "grid_template_columns": null,
            "flex": null,
            "_model_name": "LayoutModel",
            "justify_items": null,
            "grid_row": null,
            "max_height": null,
            "align_content": null,
            "visibility": null,
            "align_self": null,
            "height": null,
            "min_height": null,
            "padding": null,
            "grid_auto_rows": null,
            "grid_gap": null,
            "max_width": null,
            "order": null,
            "_view_module_version": "1.2.0",
            "grid_template_areas": null,
            "object_position": null,
            "object_fit": null,
            "grid_auto_columns": null,
            "margin": null,
            "display": null,
            "left": null
          }
        },
        "e3ffa2d32e584c118cea32bdaa2e3c02": {
          "model_module": "@jupyter-widgets/controls",
          "model_name": "FloatProgressModel",
          "state": {
            "_view_name": "ProgressView",
            "style": "IPY_MODEL_f27ff42f49824f768ff584c8539b5534",
            "_dom_classes": [],
            "description": "",
            "_model_name": "FloatProgressModel",
            "bar_style": "success",
            "max": 4542,
            "_view_module": "@jupyter-widgets/controls",
            "_model_module_version": "1.5.0",
            "value": 4542,
            "_view_count": null,
            "_view_module_version": "1.5.0",
            "orientation": "horizontal",
            "min": 0,
            "description_tooltip": null,
            "_model_module": "@jupyter-widgets/controls",
            "layout": "IPY_MODEL_fad86df4ad634e019e021efb74416732"
          }
        },
        "bd55135593d14c60b8ab3bdc7563c7be": {
          "model_module": "@jupyter-widgets/controls",
          "model_name": "HTMLModel",
          "state": {
            "_view_name": "HTMLView",
            "style": "IPY_MODEL_f5662be5f54248dc9827d2ec91666317",
            "_dom_classes": [],
            "description": "",
            "_model_name": "HTMLModel",
            "placeholder": "​",
            "_view_module": "@jupyter-widgets/controls",
            "_model_module_version": "1.5.0",
            "value": " 5120/? [00:00&lt;00:00, 20858.95it/s]",
            "_view_count": null,
            "_view_module_version": "1.5.0",
            "description_tooltip": null,
            "_model_module": "@jupyter-widgets/controls",
            "layout": "IPY_MODEL_726a072d1fb54fa9acb0dca73d81d4ed"
          }
        },
        "f27ff42f49824f768ff584c8539b5534": {
          "model_module": "@jupyter-widgets/controls",
          "model_name": "ProgressStyleModel",
          "state": {
            "_view_name": "StyleView",
            "_model_name": "ProgressStyleModel",
            "description_width": "initial",
            "_view_module": "@jupyter-widgets/base",
            "_model_module_version": "1.5.0",
            "_view_count": null,
            "_view_module_version": "1.2.0",
            "bar_color": null,
            "_model_module": "@jupyter-widgets/controls"
          }
        },
        "fad86df4ad634e019e021efb74416732": {
          "model_module": "@jupyter-widgets/base",
          "model_name": "LayoutModel",
          "state": {
            "_view_name": "LayoutView",
            "grid_template_rows": null,
            "right": null,
            "justify_content": null,
            "_view_module": "@jupyter-widgets/base",
            "overflow": null,
            "_model_module_version": "1.2.0",
            "_view_count": null,
            "flex_flow": null,
            "width": null,
            "min_width": null,
            "border": null,
            "align_items": null,
            "bottom": null,
            "_model_module": "@jupyter-widgets/base",
            "top": null,
            "grid_column": null,
            "overflow_y": null,
            "overflow_x": null,
            "grid_auto_flow": null,
            "grid_area": null,
            "grid_template_columns": null,
            "flex": null,
            "_model_name": "LayoutModel",
            "justify_items": null,
            "grid_row": null,
            "max_height": null,
            "align_content": null,
            "visibility": null,
            "align_self": null,
            "height": null,
            "min_height": null,
            "padding": null,
            "grid_auto_rows": null,
            "grid_gap": null,
            "max_width": null,
            "order": null,
            "_view_module_version": "1.2.0",
            "grid_template_areas": null,
            "object_position": null,
            "object_fit": null,
            "grid_auto_columns": null,
            "margin": null,
            "display": null,
            "left": null
          }
        },
        "f5662be5f54248dc9827d2ec91666317": {
          "model_module": "@jupyter-widgets/controls",
          "model_name": "DescriptionStyleModel",
          "state": {
            "_view_name": "StyleView",
            "_model_name": "DescriptionStyleModel",
            "description_width": "",
            "_view_module": "@jupyter-widgets/base",
            "_model_module_version": "1.5.0",
            "_view_count": null,
            "_view_module_version": "1.2.0",
            "_model_module": "@jupyter-widgets/controls"
          }
        },
        "726a072d1fb54fa9acb0dca73d81d4ed": {
          "model_module": "@jupyter-widgets/base",
          "model_name": "LayoutModel",
          "state": {
            "_view_name": "LayoutView",
            "grid_template_rows": null,
            "right": null,
            "justify_content": null,
            "_view_module": "@jupyter-widgets/base",
            "overflow": null,
            "_model_module_version": "1.2.0",
            "_view_count": null,
            "flex_flow": null,
            "width": null,
            "min_width": null,
            "border": null,
            "align_items": null,
            "bottom": null,
            "_model_module": "@jupyter-widgets/base",
            "top": null,
            "grid_column": null,
            "overflow_y": null,
            "overflow_x": null,
            "grid_auto_flow": null,
            "grid_area": null,
            "grid_template_columns": null,
            "flex": null,
            "_model_name": "LayoutModel",
            "justify_items": null,
            "grid_row": null,
            "max_height": null,
            "align_content": null,
            "visibility": null,
            "align_self": null,
            "height": null,
            "min_height": null,
            "padding": null,
            "grid_auto_rows": null,
            "grid_gap": null,
            "max_width": null,
            "order": null,
            "_view_module_version": "1.2.0",
            "grid_template_areas": null,
            "object_position": null,
            "object_fit": null,
            "grid_auto_columns": null,
            "margin": null,
            "display": null,
            "left": null
          }
        }
      }
    }
  },
  "cells": [
    {
      "cell_type": "code",
      "metadata": {
        "colab": {
          "base_uri": "https://localhost:8080/"
        },
        "id": "ET0ETjlzY6U6",
        "outputId": "e2878bf3-8fec-4a61-e3bf-8a777291fa2e"
      },
      "source": [
        "!git clone https://github.com/vsitzmann/siren.git"
      ],
      "execution_count": 1,
      "outputs": [
        {
          "output_type": "stream",
          "text": [
            "Cloning into 'siren'...\n",
            "remote: Enumerating objects: 193, done.\u001b[K\n",
            "remote: Total 193 (delta 0), reused 0 (delta 0), pack-reused 193\u001b[K\n",
            "Receiving objects: 100% (193/193), 2.18 MiB | 24.23 MiB/s, done.\n",
            "Resolving deltas: 100% (67/67), done.\n"
          ],
          "name": "stdout"
        }
      ]
    },
    {
      "cell_type": "code",
      "metadata": {
        "colab": {
          "base_uri": "https://localhost:8080/"
        },
        "id": "NjWWAEZLZBDa",
        "outputId": "b61d2810-0167-481a-9342-6a50c46b7477"
      },
      "source": [
        "%cd siren"
      ],
      "execution_count": 2,
      "outputs": [
        {
          "output_type": "stream",
          "text": [
            "/content/siren\n"
          ],
          "name": "stdout"
        }
      ]
    },
    {
      "cell_type": "code",
      "metadata": {
        "id": "vr-TXeyFqSd0"
      },
      "source": [
        "from modules import *"
      ],
      "execution_count": 3,
      "outputs": []
    },
    {
      "cell_type": "code",
      "metadata": {
        "id": "ZwyJWMCtqT_9"
      },
      "source": [
        "class ConvImgEncoder(nn.Module):\n",
        "    def __init__(self, channel, image_resolution):\n",
        "        super().__init__()\n",
        "\n",
        "        # conv_theta is input convolution\n",
        "        self.conv_theta = nn.Conv2d(channel, 128, 3, 1, 1)\n",
        "        self.relu = nn.ReLU(inplace=True)\n",
        "\n",
        "        self.cnn = nn.Sequential(\n",
        "            nn.Conv2d(128, 256, 3, 1, 1),\n",
        "            nn.ReLU(),\n",
        "            Conv2dResBlock(256, 256),\n",
        "            Conv2dResBlock(256, 256),\n",
        "            Conv2dResBlock(256, 256),\n",
        "            Conv2dResBlock(256, 256),\n",
        "            nn.Conv2d(256, 256, 1, 1, 0)\n",
        "        )\n",
        "\n",
        "        self.relu_2 = nn.ReLU(inplace=True)\n",
        "        self.fc = nn.Linear(784, 1)\n",
        "\n",
        "        self.image_resolution = image_resolution\n",
        "\n",
        "    def forward(self, I):\n",
        "        o = self.relu(self.conv_theta(I))\n",
        "        o = self.cnn(o)\n",
        "\n",
        "        o = self.fc(self.relu_2(o).view(o.shape[0], 256, -1)).squeeze(-1)\n",
        "        return o"
      ],
      "execution_count": 4,
      "outputs": []
    },
    {
      "cell_type": "code",
      "metadata": {
        "id": "uWHBcZ5xZeaJ"
      },
      "source": [
        "'''Modules for hypernetwork experiments, Paper Sec. 4.4\n",
        "'''\n",
        "\n",
        "import torch\n",
        "from torch import nn\n",
        "from collections import OrderedDict\n",
        "import modules\n",
        "\n",
        "\n",
        "class HyperNetwork(nn.Module):\n",
        "    def __init__(self, hyper_in_features, hyper_hidden_layers, hyper_hidden_features, hypo_module):\n",
        "        '''\n",
        "\n",
        "        Args:\n",
        "            hyper_in_features: In features of hypernetwork\n",
        "            hyper_hidden_layers: Number of hidden layers in hypernetwork\n",
        "            hyper_hidden_features: Number of hidden units in hypernetwork\n",
        "            hypo_module: MetaModule. The module whose parameters are predicted.\n",
        "        '''\n",
        "        super().__init__()\n",
        "\n",
        "        hypo_parameters = hypo_module.meta_named_parameters()\n",
        "\n",
        "        self.names = []\n",
        "        self.nets = nn.ModuleList()\n",
        "        self.param_shapes = []\n",
        "        for name, param in hypo_parameters:\n",
        "            self.names.append(name)\n",
        "            self.param_shapes.append(param.size())\n",
        "\n",
        "            hn = modules.FCBlock(in_features=hyper_in_features, out_features=int(torch.prod(torch.tensor(param.size()))),\n",
        "                                 num_hidden_layers=hyper_hidden_layers, hidden_features=hyper_hidden_features,\n",
        "                                 outermost_linear=True, nonlinearity='relu')\n",
        "            self.nets.append(hn)\n",
        "\n",
        "            if 'weight' in name:\n",
        "                self.nets[-1].net[-1].apply(lambda m: hyper_weight_init(m, param.size()[-1]))\n",
        "            elif 'bias' in name:\n",
        "                self.nets[-1].net[-1].apply(lambda m: hyper_bias_init(m))\n",
        "\n",
        "    def forward(self, z):\n",
        "        '''\n",
        "        Args:\n",
        "            z: Embedding. Input to hypernetwork. Could be output of \"Autodecoder\" (see above)\n",
        "\n",
        "        Returns:\n",
        "            params: OrderedDict. Can be directly passed as the \"params\" parameter of a MetaModule.\n",
        "        '''\n",
        "        params = OrderedDict()\n",
        "        for name, net, param_shape in zip(self.names, self.nets, self.param_shapes):\n",
        "            batch_param_shape = (-1,) + param_shape\n",
        "            params[name] = net(z).reshape(batch_param_shape)\n",
        "        return params\n",
        "\n",
        "\n",
        "class NeuralProcessImplicit2DHypernet(nn.Module):\n",
        "    '''A canonical 2D representation hypernetwork mapping 2D coords to out_features.'''\n",
        "    def __init__(self, in_features, out_features, image_resolution=None, encoder_nl='sine'):\n",
        "        super().__init__()\n",
        "\n",
        "        latent_dim = 256\n",
        "        self.hypo_net = modules.SingleBVPNet(out_features=out_features, type='sine', sidelength=image_resolution,\n",
        "                                             in_features=2)\n",
        "        self.hyper_net = HyperNetwork(hyper_in_features=latent_dim, hyper_hidden_layers=3, hyper_hidden_features=256,\n",
        "                                      hypo_module=self.hypo_net)\n",
        "        self.set_encoder = modules.SetEncoder(in_features=in_features, out_features=latent_dim, num_hidden_layers=2,\n",
        "                                              hidden_features=latent_dim, nonlinearity=encoder_nl)\n",
        "        print(self)\n",
        "\n",
        "    def freeze_hypernet(self):\n",
        "        for param in self.hyper_net.parameters():\n",
        "            param.requires_grad = False\n",
        "\n",
        "    def get_hypo_net_weights(self, model_input):\n",
        "        pixels, coords = model_input['img_sub'], model_input['coords_sub']\n",
        "        ctxt_mask = model_input.get('ctxt_mask', None)\n",
        "        embedding = self.set_encoder(coords, pixels, ctxt_mask=ctxt_mask)\n",
        "        hypo_params = self.hyper_net(embedding)\n",
        "        return hypo_params, embedding\n",
        "\n",
        "    def forward(self, model_input):\n",
        "        if model_input.get('embedding', None) is None:\n",
        "            pixels, coords = model_input['img_sub'], model_input['coords_sub']\n",
        "            ctxt_mask = model_input.get('ctxt_mask', None)\n",
        "            embedding = self.set_encoder(coords, pixels, ctxt_mask=ctxt_mask)\n",
        "        else:\n",
        "            embedding = model_input['embedding']\n",
        "        hypo_params = self.hyper_net(embedding)\n",
        "\n",
        "        model_output = self.hypo_net(model_input, params=hypo_params)\n",
        "        return {'model_in':model_output['model_in'], 'model_out':model_output['model_out'], 'latent_vec':embedding,\n",
        "                'hypo_params':hypo_params}\n",
        "\n",
        "\n",
        "class ConvolutionalNeuralProcessImplicit2DHypernet(nn.Module):\n",
        "    def __init__(self, in_features, out_features, image_resolution=28, partial_conv=False):\n",
        "        super().__init__()\n",
        "        latent_dim = 256\n",
        "\n",
        "        if partial_conv:\n",
        "            self.encoder = modules.PartialConvImgEncoder(channel=in_features, image_resolution=image_resolution)\n",
        "        else:\n",
        "            self.encoder = ConvImgEncoder(channel=in_features, image_resolution=image_resolution)\n",
        "        self.hypo_net = modules.FCBlock(2, 1, 3, 256, outermost_linear=True, nonlinearity='sine', weight_init=None)\n",
        "        self.hyper_net = HyperNetwork(hyper_in_features=latent_dim, hyper_hidden_layers=1, hyper_hidden_features=256,\n",
        "                                      hypo_module=self.hypo_net)\n",
        "\n",
        "    def forward(self, model_input):\n",
        "        if model_input.get('embedding', None) is None:\n",
        "            embedding = self.encoder(model_input['img_sparse'])\n",
        "        else:\n",
        "            embedding = model_input['embedding']\n",
        "        hypo_params = self.hyper_net(embedding)\n",
        "\n",
        "        model_output = self.hypo_net(model_input[\"coords\"], params=hypo_params)\n",
        "\n",
        "        return {'model_out': model_output, 'latent_vec': embedding,\n",
        "                'hypo_params': hypo_params}\n",
        "\n",
        "    def get_hypo_net_weights(self, model_input):\n",
        "        embedding = self.encoder(model_input['img_sparse'])\n",
        "        hypo_params = self.hyper_net(embedding)\n",
        "        return hypo_params, embedding\n",
        "\n",
        "    def freeze_hypernet(self):\n",
        "        for param in self.hyper_net.parameters():\n",
        "            param.requires_grad = False\n",
        "        for param in self.encoder.parameters():\n",
        "            param.requires_grad = False\n",
        "\n",
        "\n",
        "############################\n",
        "# Initialization schemes\n",
        "def hyper_weight_init(m, in_features_main_net):\n",
        "    if hasattr(m, 'weight'):\n",
        "        nn.init.kaiming_normal_(m.weight, a=0.0, nonlinearity='relu', mode='fan_in')\n",
        "        m.weight.data = m.weight.data / 1.e2\n",
        "\n",
        "    if hasattr(m, 'bias'):\n",
        "        with torch.no_grad():\n",
        "            m.bias.uniform_(-1/in_features_main_net, 1/in_features_main_net)\n",
        "\n",
        "\n",
        "def hyper_bias_init(m):\n",
        "    if hasattr(m, 'weight'):\n",
        "        nn.init.kaiming_normal_(m.weight, a=0.0, nonlinearity='relu', mode='fan_in')\n",
        "        m.weight.data = m.weight.data / 1.e2\n",
        "\n",
        "    if hasattr(m, 'bias'):\n",
        "        fan_in, _ = nn.init._calculate_fan_in_and_fan_out(m.weight)\n",
        "        with torch.no_grad():\n",
        "            m.bias.uniform_(-1/fan_in, 1/fan_in)"
      ],
      "execution_count": 6,
      "outputs": []
    },
    {
      "cell_type": "code",
      "metadata": {
        "id": "lDf-ZNg_ZjE4",
        "colab": {
          "base_uri": "https://localhost:8080/",
          "height": 573,
          "referenced_widgets": [
            "7da6fc122afd485f99270722e4937214",
            "7cc8ab71da0c42a682c817e958d062de",
            "413fe257c06f4b6286e1154f79da099c",
            "5617926e7d6047d0ab3b772f5ce8264e",
            "f9eefadc0cfd4a7cb59bdd162f9d845f",
            "829a859b041f4feca097ef936d8de2fd",
            "268ba2b45b254c54b05cc29d7a0643f6",
            "c96fe502eb09441b9ce9fc79e668404a",
            "3e219e7c4c204a099d3da73b8a0b5dcd",
            "07579650bce24c73865a21abdc89e1c8",
            "140ea4c40ad84c61bcd5ed76ff7b0c2d",
            "34ea8697de0541828ad581cdc4220b49",
            "23d4e7e26c154da9a0cad9b906faded9",
            "e6c86b0f002b46cd936f10ffb31eeb18",
            "87dc9916f5a04c14995fabf4bb3f034c",
            "8567acffd4844c78a9907a2db4dfba13",
            "f69b96835ce548fe81c84927a274c0b6",
            "7440524dcd5443ec82d6005e4a98d1df",
            "42e5055ee2014a8a8511e84cc05f1a4e",
            "cf9d2f8e04a74dd0be665babe0a3f7e0",
            "a209e974c3b94975a86500a730c7fafd",
            "23e2a2ed4985460db811d06949e66ea4",
            "b1be2f487e71426eaa12d90d36bce7e1",
            "13f2bb4efab74772a86fbde65acbc576",
            "11a5020637c44d2aafcfb3229c31d744",
            "29d40e2b90404d0a8ee316a6a0229ed3",
            "e3ffa2d32e584c118cea32bdaa2e3c02",
            "bd55135593d14c60b8ab3bdc7563c7be",
            "f27ff42f49824f768ff584c8539b5534",
            "fad86df4ad634e019e021efb74416732",
            "f5662be5f54248dc9827d2ec91666317",
            "726a072d1fb54fa9acb0dca73d81d4ed"
          ]
        },
        "outputId": "faa7351b-2171-4bf2-ae8a-4107aa2bc5b8"
      },
      "source": [
        "import torchvision.datasets as datasets\n",
        "mnist_trainset = datasets.MNIST(root='./data', train=True, download=True, transform=None)\n",
        "mnist_testset = datasets.MNIST(root='./data', train=False, download=True, transform=None)"
      ],
      "execution_count": 7,
      "outputs": [
        {
          "output_type": "stream",
          "text": [
            "Downloading http://yann.lecun.com/exdb/mnist/train-images-idx3-ubyte.gz\n",
            "Downloading http://yann.lecun.com/exdb/mnist/train-images-idx3-ubyte.gz to ./data/MNIST/raw/train-images-idx3-ubyte.gz\n"
          ],
          "name": "stdout"
        },
        {
          "output_type": "display_data",
          "data": {
            "application/vnd.jupyter.widget-view+json": {
              "model_id": "7da6fc122afd485f99270722e4937214",
              "version_minor": 0,
              "version_major": 2
            },
            "text/plain": [
              "HBox(children=(FloatProgress(value=0.0, max=9912422.0), HTML(value='')))"
            ]
          },
          "metadata": {
            "tags": []
          }
        },
        {
          "output_type": "stream",
          "text": [
            "\n",
            "Extracting ./data/MNIST/raw/train-images-idx3-ubyte.gz to ./data/MNIST/raw\n",
            "\n",
            "Downloading http://yann.lecun.com/exdb/mnist/train-labels-idx1-ubyte.gz\n",
            "Downloading http://yann.lecun.com/exdb/mnist/train-labels-idx1-ubyte.gz to ./data/MNIST/raw/train-labels-idx1-ubyte.gz\n"
          ],
          "name": "stdout"
        },
        {
          "output_type": "display_data",
          "data": {
            "application/vnd.jupyter.widget-view+json": {
              "model_id": "3e219e7c4c204a099d3da73b8a0b5dcd",
              "version_minor": 0,
              "version_major": 2
            },
            "text/plain": [
              "HBox(children=(FloatProgress(value=0.0, max=28881.0), HTML(value='')))"
            ]
          },
          "metadata": {
            "tags": []
          }
        },
        {
          "output_type": "stream",
          "text": [
            "\n",
            "Extracting ./data/MNIST/raw/train-labels-idx1-ubyte.gz to ./data/MNIST/raw\n",
            "\n",
            "Downloading http://yann.lecun.com/exdb/mnist/t10k-images-idx3-ubyte.gz\n",
            "Downloading http://yann.lecun.com/exdb/mnist/t10k-images-idx3-ubyte.gz to ./data/MNIST/raw/t10k-images-idx3-ubyte.gz\n"
          ],
          "name": "stdout"
        },
        {
          "output_type": "display_data",
          "data": {
            "application/vnd.jupyter.widget-view+json": {
              "model_id": "f69b96835ce548fe81c84927a274c0b6",
              "version_minor": 0,
              "version_major": 2
            },
            "text/plain": [
              "HBox(children=(FloatProgress(value=0.0, max=1648877.0), HTML(value='')))"
            ]
          },
          "metadata": {
            "tags": []
          }
        },
        {
          "output_type": "stream",
          "text": [
            "\n",
            "Extracting ./data/MNIST/raw/t10k-images-idx3-ubyte.gz to ./data/MNIST/raw\n",
            "\n",
            "Downloading http://yann.lecun.com/exdb/mnist/t10k-labels-idx1-ubyte.gz\n",
            "Downloading http://yann.lecun.com/exdb/mnist/t10k-labels-idx1-ubyte.gz to ./data/MNIST/raw/t10k-labels-idx1-ubyte.gz\n"
          ],
          "name": "stdout"
        },
        {
          "output_type": "display_data",
          "data": {
            "application/vnd.jupyter.widget-view+json": {
              "model_id": "11a5020637c44d2aafcfb3229c31d744",
              "version_minor": 0,
              "version_major": 2
            },
            "text/plain": [
              "HBox(children=(FloatProgress(value=0.0, max=4542.0), HTML(value='')))"
            ]
          },
          "metadata": {
            "tags": []
          }
        },
        {
          "output_type": "stream",
          "text": [
            "\n",
            "Extracting ./data/MNIST/raw/t10k-labels-idx1-ubyte.gz to ./data/MNIST/raw\n",
            "\n",
            "Processing...\n",
            "Done!\n"
          ],
          "name": "stdout"
        },
        {
          "output_type": "stream",
          "text": [
            "/usr/local/lib/python3.7/dist-packages/torchvision/datasets/mnist.py:502: UserWarning: The given NumPy array is not writeable, and PyTorch does not support non-writeable tensors. This means you can write to the underlying (supposedly non-writeable) NumPy array using the tensor. You may want to copy the array to protect its data or make it writeable before converting it to a tensor. This type of warning will be suppressed for the rest of this program. (Triggered internally at  /pytorch/torch/csrc/utils/tensor_numpy.cpp:143.)\n",
            "  return torch.from_numpy(parsed.astype(m[2], copy=False)).view(*s)\n"
          ],
          "name": "stderr"
        }
      ]
    },
    {
      "cell_type": "code",
      "metadata": {
        "id": "2tFLivPbaWHc"
      },
      "source": [
        "train_loader = torch.utils.data.DataLoader(mnist_trainset, batch_size=8, shuffle=True)\n",
        "test_loader = torch.utils.data.DataLoader(mnist_testset, batch_size=1, shuffle=True)"
      ],
      "execution_count": 8,
      "outputs": []
    },
    {
      "cell_type": "code",
      "metadata": {
        "id": "xDJ0X5yIdm2K"
      },
      "source": [
        "def get_mgrid(sidelen, dim=2):\n",
        "    '''Generates a flattened grid of (x,y,...) coordinates in a range of -1 to 1.\n",
        "    sidelen: int\n",
        "    dim: int'''\n",
        "    tensors = tuple(dim * [torch.linspace(-1, 1, steps=sidelen)])\n",
        "    mgrid = torch.stack(torch.meshgrid(*tensors), dim=-1)\n",
        "    mgrid = mgrid.reshape(-1, dim)\n",
        "    return mgrid"
      ],
      "execution_count": 9,
      "outputs": []
    },
    {
      "cell_type": "code",
      "metadata": {
        "id": "1TeeO7o5eb73"
      },
      "source": [
        "from torch.utils.data import DataLoader, Dataset\n",
        "\n",
        "class ImageFitting(Dataset):\n",
        "    def __init__(self, sidelength, img):\n",
        "        super().__init__()\n",
        "        print(img.shape)\n",
        "        self.pixels = img.view(-1, 1)\n",
        "        self.coords = get_mgrid(sidelength, 2)\n",
        "\n",
        "    def __len__(self):\n",
        "        return 1\n",
        "\n",
        "    def __getitem__(self, idx):    \n",
        "        if idx > 0: raise IndexError\n",
        "            \n",
        "        return self.coords, self.pixels"
      ],
      "execution_count": 10,
      "outputs": []
    },
    {
      "cell_type": "code",
      "metadata": {
        "colab": {
          "base_uri": "https://localhost:8080/"
        },
        "id": "VBQZwwoJeZBt",
        "outputId": "c02bd441-b9f4-41b7-e32a-289372dd0ccb"
      },
      "source": [
        "import numpy as np\n",
        "cameraman = ImageFitting(28, torch.Tensor(np.array(mnist_trainset[0][0])))\n",
        "dataloader = DataLoader(cameraman, batch_size=1, pin_memory=True, num_workers=0)"
      ],
      "execution_count": 11,
      "outputs": [
        {
          "output_type": "stream",
          "text": [
            "torch.Size([28, 28])\n"
          ],
          "name": "stdout"
        }
      ]
    },
    {
      "cell_type": "code",
      "metadata": {
        "id": "0lnXAIpFFdVC"
      },
      "source": [
        "import matplotlib.pyplot as plt"
      ],
      "execution_count": 12,
      "outputs": []
    },
    {
      "cell_type": "code",
      "metadata": {
        "colab": {
          "base_uri": "https://localhost:8080/",
          "height": 1000
        },
        "id": "bCqUSn8VuOMt",
        "outputId": "3ce542d1-c61b-4fcc-e8ca-8298f6c6e259"
      },
      "source": [
        "img_siren = modules.FCBlock(2, 1, 3, 128, outermost_linear=True, nonlinearity='sine', weight_init=None)\n",
        "img_siren.cuda()\n",
        "\n",
        "total_steps = 100000 # Since the whole image is our dataset, this just means 500 gradient descent steps.\n",
        "steps_til_summary = 50\n",
        "\n",
        "optim = torch.optim.Adam(lr=1e-5, params=img_siren.parameters())\n",
        "\n",
        "model_input, ground_truth = next(iter(dataloader))\n",
        "model_input, ground_truth = model_input.cuda(), ground_truth.cuda()\n",
        "\n",
        "for step in range(total_steps):\n",
        "    # model_output = net({'img_sparse': ground_truth.view((1, 1, 28, 28)).cuda(), 'coords': model_input.cuda()})[\"model_out\"]\n",
        "    model_output = img_siren(model_input)\n",
        "    loss = ((model_output.cuda() - (ground_truth / 255))**2).mean()\n",
        "    \n",
        "    if not step % steps_til_summary:\n",
        "        # print(\"Step %d, Total loss %0.6f\" % (step, loss))\n",
        "\n",
        "        # print(torch.max(model_output))\n",
        "        # print(torch.max(ground_truth))\n",
        "\n",
        "        fig, axes = plt.subplots(2,1, figsize=(12,6))\n",
        "        axes[0].set_xticks([])\n",
        "        axes[0].set_yticks([])\n",
        "        axes[1].set_xticks([])\n",
        "        axes[1].set_yticks([])\n",
        "        axes[0].imshow(model_output.cpu().view(28,28).detach().numpy())\n",
        "        axes[1].imshow((ground_truth / 255).cpu().view(28,28).detach().numpy())\n",
        "        plt.show()\n",
        "\n",
        "    optim.zero_grad()\n",
        "    loss.backward()\n",
        "    optim.step()"
      ],
      "execution_count": 13,
      "outputs": [
        {
          "output_type": "display_data",
          "data": {
            "image/png": "[encoded data removed]",
            "text/plain": [
              "<Figure size 864x432 with 2 Axes>"
            ]
          },
          "metadata": {
            "tags": []
          }
        },
        {
          "output_type": "display_data",
          "data": {
            "image/png": "[encoded data removed]",
            "text/plain": [
              "<Figure size 864x432 with 2 Axes>"
            ]
          },
          "metadata": {
            "tags": []
          }
        },
        {
          "output_type": "display_data",
          "data": {
            "image/png": "[encoded data removed]",
            "text/plain": [
              "<Figure size 864x432 with 2 Axes>"
            ]
          },
          "metadata": {
            "tags": []
          }
        },
        {
          "output_type": "display_data",
          "data": {
            "image/png": "[encoded data removed]",
            "text/plain": [
              "<Figure size 864x432 with 2 Axes>"
            ]
          },
          "metadata": {
            "tags": []
          }
        },
        {
          "output_type": "display_data",
          "data": {
            "image/png": "[encoded data removed]",
            "text/plain": [
              "<Figure size 864x432 with 2 Axes>"
            ]
          },
          "metadata": {
            "tags": []
          }
        },
        {
          "output_type": "display_data",
          "data": {
            "image/png": "[encoded data removed]",
            "text/plain": [
              "<Figure size 864x432 with 2 Axes>"
            ]
          },
          "metadata": {
            "tags": []
          }
        },
        {
          "output_type": "display_data",
          "data": {
            "image/png": "[encoded data removed]",
            "text/plain": [
              "<Figure size 864x432 with 2 Axes>"
            ]
          },
          "metadata": {
            "tags": []
          }
        },
        {
          "output_type": "display_data",
          "data": {
            "image/png": "[encoded data removed]",
            "text/plain": [
              "<Figure size 864x432 with 2 Axes>"
            ]
          },
          "metadata": {
            "tags": []
          }
        },
        {
          "output_type": "display_data",
          "data": {
            "image/png": "[encoded data removed]",
            "text/plain": [
              "<Figure size 864x432 with 2 Axes>"
            ]
          },
          "metadata": {
            "tags": []
          }
        },
        {
          "output_type": "display_data",
          "data": {
            "image/png": "[encoded data removed]",
            "text/plain": [
              "<Figure size 864x432 with 2 Axes>"
            ]
          },
          "metadata": {
            "tags": []
          }
        },
        {
          "output_type": "display_data",
          "data": {
            "image/png": "[encoded data removed]",
            "text/plain": [
              "<Figure size 864x432 with 2 Axes>"
            ]
          },
          "metadata": {
            "tags": []
          }
        },
        {
          "output_type": "display_data",
          "data": {
            "image/png": "[encoded data removed]",
            "text/plain": [
              "<Figure size 864x432 with 2 Axes>"
            ]
          },
          "metadata": {
            "tags": []
          }
        },
        {
          "output_type": "display_data",
          "data": {
            "image/png": "[encoded data removed]",
            "text/plain": [
              "<Figure size 864x432 with 2 Axes>"
            ]
          },
          "metadata": {
            "tags": []
          }
        },
        {
          "output_type": "display_data",
          "data": {
            "image/png": "[encoded data removed]",
            "text/plain": [
              "<Figure size 864x432 with 2 Axes>"
            ]
          },
          "metadata": {
            "tags": []
          }
        },
        {
          "output_type": "display_data",
          "data": {
            "image/png": "[encoded data removed]",
            "text/plain": [
              "<Figure size 864x432 with 2 Axes>"
            ]
          },
          "metadata": {
            "tags": []
          }
        },
        {
          "output_type": "display_data",
          "data": {
            "image/png": "[encoded data removed]",
            "text/plain": [
              "<Figure size 864x432 with 2 Axes>"
            ]
          },
          "metadata": {
            "tags": []
          }
        },
        {
          "output_type": "display_data",
          "data": {
            "image/png": "[encoded data removed]",
            "text/plain": [
              "<Figure size 864x432 with 2 Axes>"
            ]
          },
          "metadata": {
            "tags": []
          }
        },
        {
          "output_type": "display_data",
          "data": {
            "image/png": "[encoded data removed]",
            "text/plain": [
              "<Figure size 864x432 with 2 Axes>"
            ]
          },
          "metadata": {
            "tags": []
          }
        },
        {
          "output_type": "display_data",
          "data": {
            "image/png": "[encoded data removed]",
            "text/plain": [
              "<Figure size 864x432 with 2 Axes>"
            ]
          },
          "metadata": {
            "tags": []
          }
        },
        {
          "output_type": "display_data",
          "data": {
            "image/png": "[encoded data removed]",
            "text/plain": [
              "<Figure size 864x432 with 2 Axes>"
            ]
          },
          "metadata": {
            "tags": []
          }
        },
        {
          "output_type": "display_data",
          "data": {
            "image/png": "[encoded data removed]",
            "text/plain": [
              "<Figure size 864x432 with 2 Axes>"
            ]
          },
          "metadata": {
            "tags": []
          }
        },
        {
          "output_type": "display_data",
          "data": {
            "image/png": "[encoded data removed]",
            "text/plain": [
              "<Figure size 864x432 with 2 Axes>"
            ]
          },
          "metadata": {
            "tags": []
          }
        },
        {
          "output_type": "display_data",
          "data": {
            "image/png": "[encoded data removed]",
            "text/plain": [
              "<Figure size 864x432 with 2 Axes>"
            ]
          },
          "metadata": {
            "tags": []
          }
        },
        {
          "output_type": "display_data",
          "data": {
            "image/png": "[encoded data removed]",
            "text/plain": [
              "<Figure size 864x432 with 2 Axes>"
            ]
          },
          "metadata": {
            "tags": []
          }
        },
        {
          "output_type": "display_data",
          "data": {
            "image/png": "[encoded data removed]",
            "text/plain": [
              "<Figure size 864x432 with 2 Axes>"
            ]
          },
          "metadata": {
            "tags": []
          }
        },
        {
          "output_type": "display_data",
          "data": {
            "image/png": "[encoded data removed]",
            "text/plain": [
              "<Figure size 864x432 with 2 Axes>"
            ]
          },
          "metadata": {
            "tags": []
          }
        },
        {
          "output_type": "display_data",
          "data": {
            "image/png": "[encoded data removed]",
            "text/plain": [
              "<Figure size 864x432 with 2 Axes>"
            ]
          },
          "metadata": {
            "tags": []
          }
        },
        {
          "output_type": "error",
          "ename": "KeyboardInterrupt",
          "evalue": "ignored",
          "traceback": [
            "\u001b[0;31m---------------------------------------------------------------------------\u001b[0m",
            "\u001b[0;31mKeyboardInterrupt\u001b[0m                         Traceback (most recent call last)",
            "\u001b[0;32m<ipython-input-13-e5dc8c95c689>\u001b[0m in \u001b[0;36m<module>\u001b[0;34m()\u001b[0m\n\u001b[1;32m     12\u001b[0m \u001b[0;32mfor\u001b[0m \u001b[0mstep\u001b[0m \u001b[0;32min\u001b[0m \u001b[0mrange\u001b[0m\u001b[0;34m(\u001b[0m\u001b[0mtotal_steps\u001b[0m\u001b[0;34m)\u001b[0m\u001b[0;34m:\u001b[0m\u001b[0;34m\u001b[0m\u001b[0;34m\u001b[0m\u001b[0m\n\u001b[1;32m     13\u001b[0m     \u001b[0;31m# model_output = net({'img_sparse': ground_truth.view((1, 1, 28, 28)).cuda(), 'coords': model_input.cuda()})[\"model_out\"]\u001b[0m\u001b[0;34m\u001b[0m\u001b[0;34m\u001b[0m\u001b[0;34m\u001b[0m\u001b[0m\n\u001b[0;32m---> 14\u001b[0;31m     \u001b[0mmodel_output\u001b[0m \u001b[0;34m=\u001b[0m \u001b[0mimg_siren\u001b[0m\u001b[0;34m(\u001b[0m\u001b[0mmodel_input\u001b[0m\u001b[0;34m)\u001b[0m\u001b[0;34m\u001b[0m\u001b[0;34m\u001b[0m\u001b[0m\n\u001b[0m\u001b[1;32m     15\u001b[0m     \u001b[0mloss\u001b[0m \u001b[0;34m=\u001b[0m \u001b[0;34m(\u001b[0m\u001b[0;34m(\u001b[0m\u001b[0mmodel_output\u001b[0m\u001b[0;34m.\u001b[0m\u001b[0mcuda\u001b[0m\u001b[0;34m(\u001b[0m\u001b[0;34m)\u001b[0m \u001b[0;34m-\u001b[0m \u001b[0;34m(\u001b[0m\u001b[0mground_truth\u001b[0m \u001b[0;34m/\u001b[0m \u001b[0;36m255\u001b[0m\u001b[0;34m)\u001b[0m\u001b[0;34m)\u001b[0m\u001b[0;34m**\u001b[0m\u001b[0;36m2\u001b[0m\u001b[0;34m)\u001b[0m\u001b[0;34m.\u001b[0m\u001b[0mmean\u001b[0m\u001b[0;34m(\u001b[0m\u001b[0;34m)\u001b[0m\u001b[0;34m\u001b[0m\u001b[0;34m\u001b[0m\u001b[0m\n\u001b[1;32m     16\u001b[0m \u001b[0;34m\u001b[0m\u001b[0m\n",
            "\u001b[0;32m/usr/local/lib/python3.7/dist-packages/torch/nn/modules/module.py\u001b[0m in \u001b[0;36m_call_impl\u001b[0;34m(self, *input, **kwargs)\u001b[0m\n\u001b[1;32m    887\u001b[0m             \u001b[0mresult\u001b[0m \u001b[0;34m=\u001b[0m \u001b[0mself\u001b[0m\u001b[0;34m.\u001b[0m\u001b[0m_slow_forward\u001b[0m\u001b[0;34m(\u001b[0m\u001b[0;34m*\u001b[0m\u001b[0minput\u001b[0m\u001b[0;34m,\u001b[0m \u001b[0;34m**\u001b[0m\u001b[0mkwargs\u001b[0m\u001b[0;34m)\u001b[0m\u001b[0;34m\u001b[0m\u001b[0;34m\u001b[0m\u001b[0m\n\u001b[1;32m    888\u001b[0m         \u001b[0;32melse\u001b[0m\u001b[0;34m:\u001b[0m\u001b[0;34m\u001b[0m\u001b[0;34m\u001b[0m\u001b[0m\n\u001b[0;32m--> 889\u001b[0;31m             \u001b[0mresult\u001b[0m \u001b[0;34m=\u001b[0m \u001b[0mself\u001b[0m\u001b[0;34m.\u001b[0m\u001b[0mforward\u001b[0m\u001b[0;34m(\u001b[0m\u001b[0;34m*\u001b[0m\u001b[0minput\u001b[0m\u001b[0;34m,\u001b[0m \u001b[0;34m**\u001b[0m\u001b[0mkwargs\u001b[0m\u001b[0;34m)\u001b[0m\u001b[0;34m\u001b[0m\u001b[0;34m\u001b[0m\u001b[0m\n\u001b[0m\u001b[1;32m    890\u001b[0m         for hook in itertools.chain(\n\u001b[1;32m    891\u001b[0m                 \u001b[0m_global_forward_hooks\u001b[0m\u001b[0;34m.\u001b[0m\u001b[0mvalues\u001b[0m\u001b[0;34m(\u001b[0m\u001b[0;34m)\u001b[0m\u001b[0;34m,\u001b[0m\u001b[0;34m\u001b[0m\u001b[0;34m\u001b[0m\u001b[0m\n",
            "\u001b[0;32m/content/siren/modules.py\u001b[0m in \u001b[0;36mforward\u001b[0;34m(self, coords, params, **kwargs)\u001b[0m\n\u001b[1;32m     91\u001b[0m             \u001b[0mparams\u001b[0m \u001b[0;34m=\u001b[0m \u001b[0mOrderedDict\u001b[0m\u001b[0;34m(\u001b[0m\u001b[0mself\u001b[0m\u001b[0;34m.\u001b[0m\u001b[0mnamed_parameters\u001b[0m\u001b[0;34m(\u001b[0m\u001b[0;34m)\u001b[0m\u001b[0;34m)\u001b[0m\u001b[0;34m\u001b[0m\u001b[0;34m\u001b[0m\u001b[0m\n\u001b[1;32m     92\u001b[0m \u001b[0;34m\u001b[0m\u001b[0m\n\u001b[0;32m---> 93\u001b[0;31m         \u001b[0moutput\u001b[0m \u001b[0;34m=\u001b[0m \u001b[0mself\u001b[0m\u001b[0;34m.\u001b[0m\u001b[0mnet\u001b[0m\u001b[0;34m(\u001b[0m\u001b[0mcoords\u001b[0m\u001b[0;34m,\u001b[0m \u001b[0mparams\u001b[0m\u001b[0;34m=\u001b[0m\u001b[0mget_subdict\u001b[0m\u001b[0;34m(\u001b[0m\u001b[0mparams\u001b[0m\u001b[0;34m,\u001b[0m \u001b[0;34m'net'\u001b[0m\u001b[0;34m)\u001b[0m\u001b[0;34m)\u001b[0m\u001b[0;34m\u001b[0m\u001b[0;34m\u001b[0m\u001b[0m\n\u001b[0m\u001b[1;32m     94\u001b[0m         \u001b[0;32mreturn\u001b[0m \u001b[0moutput\u001b[0m\u001b[0;34m\u001b[0m\u001b[0;34m\u001b[0m\u001b[0m\n\u001b[1;32m     95\u001b[0m \u001b[0;34m\u001b[0m\u001b[0m\n",
            "\u001b[0;32m/usr/local/lib/python3.7/dist-packages/torch/nn/modules/module.py\u001b[0m in \u001b[0;36m_call_impl\u001b[0;34m(self, *input, **kwargs)\u001b[0m\n\u001b[1;32m    887\u001b[0m             \u001b[0mresult\u001b[0m \u001b[0;34m=\u001b[0m \u001b[0mself\u001b[0m\u001b[0;34m.\u001b[0m\u001b[0m_slow_forward\u001b[0m\u001b[0;34m(\u001b[0m\u001b[0;34m*\u001b[0m\u001b[0minput\u001b[0m\u001b[0;34m,\u001b[0m \u001b[0;34m**\u001b[0m\u001b[0mkwargs\u001b[0m\u001b[0;34m)\u001b[0m\u001b[0;34m\u001b[0m\u001b[0;34m\u001b[0m\u001b[0m\n\u001b[1;32m    888\u001b[0m         \u001b[0;32melse\u001b[0m\u001b[0;34m:\u001b[0m\u001b[0;34m\u001b[0m\u001b[0;34m\u001b[0m\u001b[0m\n\u001b[0;32m--> 889\u001b[0;31m             \u001b[0mresult\u001b[0m \u001b[0;34m=\u001b[0m \u001b[0mself\u001b[0m\u001b[0;34m.\u001b[0m\u001b[0mforward\u001b[0m\u001b[0;34m(\u001b[0m\u001b[0;34m*\u001b[0m\u001b[0minput\u001b[0m\u001b[0;34m,\u001b[0m \u001b[0;34m**\u001b[0m\u001b[0mkwargs\u001b[0m\u001b[0;34m)\u001b[0m\u001b[0;34m\u001b[0m\u001b[0;34m\u001b[0m\u001b[0m\n\u001b[0m\u001b[1;32m    890\u001b[0m         for hook in itertools.chain(\n\u001b[1;32m    891\u001b[0m                 \u001b[0m_global_forward_hooks\u001b[0m\u001b[0;34m.\u001b[0m\u001b[0mvalues\u001b[0m\u001b[0;34m(\u001b[0m\u001b[0;34m)\u001b[0m\u001b[0;34m,\u001b[0m\u001b[0;34m\u001b[0m\u001b[0;34m\u001b[0m\u001b[0m\n",
            "\u001b[0;32m/content/siren/torchmeta/modules/container.py\u001b[0m in \u001b[0;36mforward\u001b[0;34m(self, input, params)\u001b[0m\n\u001b[1;32m     10\u001b[0m         \u001b[0;32mfor\u001b[0m \u001b[0mname\u001b[0m\u001b[0;34m,\u001b[0m \u001b[0mmodule\u001b[0m \u001b[0;32min\u001b[0m \u001b[0mself\u001b[0m\u001b[0;34m.\u001b[0m\u001b[0m_modules\u001b[0m\u001b[0;34m.\u001b[0m\u001b[0mitems\u001b[0m\u001b[0;34m(\u001b[0m\u001b[0;34m)\u001b[0m\u001b[0;34m:\u001b[0m\u001b[0;34m\u001b[0m\u001b[0;34m\u001b[0m\u001b[0m\n\u001b[1;32m     11\u001b[0m             \u001b[0;32mif\u001b[0m \u001b[0misinstance\u001b[0m\u001b[0;34m(\u001b[0m\u001b[0mmodule\u001b[0m\u001b[0;34m,\u001b[0m \u001b[0mMetaModule\u001b[0m\u001b[0;34m)\u001b[0m\u001b[0;34m:\u001b[0m\u001b[0;34m\u001b[0m\u001b[0;34m\u001b[0m\u001b[0m\n\u001b[0;32m---> 12\u001b[0;31m                 \u001b[0minput\u001b[0m \u001b[0;34m=\u001b[0m \u001b[0mmodule\u001b[0m\u001b[0;34m(\u001b[0m\u001b[0minput\u001b[0m\u001b[0;34m,\u001b[0m \u001b[0mparams\u001b[0m\u001b[0;34m=\u001b[0m\u001b[0mget_subdict\u001b[0m\u001b[0;34m(\u001b[0m\u001b[0mparams\u001b[0m\u001b[0;34m,\u001b[0m \u001b[0mname\u001b[0m\u001b[0;34m)\u001b[0m\u001b[0;34m)\u001b[0m\u001b[0;34m\u001b[0m\u001b[0;34m\u001b[0m\u001b[0m\n\u001b[0m\u001b[1;32m     13\u001b[0m             \u001b[0;32melif\u001b[0m \u001b[0misinstance\u001b[0m\u001b[0;34m(\u001b[0m\u001b[0mmodule\u001b[0m\u001b[0;34m,\u001b[0m \u001b[0mnn\u001b[0m\u001b[0;34m.\u001b[0m\u001b[0mModule\u001b[0m\u001b[0;34m)\u001b[0m\u001b[0;34m:\u001b[0m\u001b[0;34m\u001b[0m\u001b[0;34m\u001b[0m\u001b[0m\n\u001b[1;32m     14\u001b[0m                 \u001b[0minput\u001b[0m \u001b[0;34m=\u001b[0m \u001b[0mmodule\u001b[0m\u001b[0;34m(\u001b[0m\u001b[0minput\u001b[0m\u001b[0;34m)\u001b[0m\u001b[0;34m\u001b[0m\u001b[0;34m\u001b[0m\u001b[0m\n",
            "\u001b[0;32m/usr/local/lib/python3.7/dist-packages/torch/nn/modules/module.py\u001b[0m in \u001b[0;36m_call_impl\u001b[0;34m(self, *input, **kwargs)\u001b[0m\n\u001b[1;32m    887\u001b[0m             \u001b[0mresult\u001b[0m \u001b[0;34m=\u001b[0m \u001b[0mself\u001b[0m\u001b[0;34m.\u001b[0m\u001b[0m_slow_forward\u001b[0m\u001b[0;34m(\u001b[0m\u001b[0;34m*\u001b[0m\u001b[0minput\u001b[0m\u001b[0;34m,\u001b[0m \u001b[0;34m**\u001b[0m\u001b[0mkwargs\u001b[0m\u001b[0;34m)\u001b[0m\u001b[0;34m\u001b[0m\u001b[0;34m\u001b[0m\u001b[0m\n\u001b[1;32m    888\u001b[0m         \u001b[0;32melse\u001b[0m\u001b[0;34m:\u001b[0m\u001b[0;34m\u001b[0m\u001b[0;34m\u001b[0m\u001b[0m\n\u001b[0;32m--> 889\u001b[0;31m             \u001b[0mresult\u001b[0m \u001b[0;34m=\u001b[0m \u001b[0mself\u001b[0m\u001b[0;34m.\u001b[0m\u001b[0mforward\u001b[0m\u001b[0;34m(\u001b[0m\u001b[0;34m*\u001b[0m\u001b[0minput\u001b[0m\u001b[0;34m,\u001b[0m \u001b[0;34m**\u001b[0m\u001b[0mkwargs\u001b[0m\u001b[0;34m)\u001b[0m\u001b[0;34m\u001b[0m\u001b[0;34m\u001b[0m\u001b[0m\n\u001b[0m\u001b[1;32m    890\u001b[0m         for hook in itertools.chain(\n\u001b[1;32m    891\u001b[0m                 \u001b[0m_global_forward_hooks\u001b[0m\u001b[0;34m.\u001b[0m\u001b[0mvalues\u001b[0m\u001b[0;34m(\u001b[0m\u001b[0;34m)\u001b[0m\u001b[0;34m,\u001b[0m\u001b[0;34m\u001b[0m\u001b[0;34m\u001b[0m\u001b[0m\n",
            "\u001b[0;32m/content/siren/torchmeta/modules/container.py\u001b[0m in \u001b[0;36mforward\u001b[0;34m(self, input, params)\u001b[0m\n\u001b[1;32m     10\u001b[0m         \u001b[0;32mfor\u001b[0m \u001b[0mname\u001b[0m\u001b[0;34m,\u001b[0m \u001b[0mmodule\u001b[0m \u001b[0;32min\u001b[0m \u001b[0mself\u001b[0m\u001b[0;34m.\u001b[0m\u001b[0m_modules\u001b[0m\u001b[0;34m.\u001b[0m\u001b[0mitems\u001b[0m\u001b[0;34m(\u001b[0m\u001b[0;34m)\u001b[0m\u001b[0;34m:\u001b[0m\u001b[0;34m\u001b[0m\u001b[0;34m\u001b[0m\u001b[0m\n\u001b[1;32m     11\u001b[0m             \u001b[0;32mif\u001b[0m \u001b[0misinstance\u001b[0m\u001b[0;34m(\u001b[0m\u001b[0mmodule\u001b[0m\u001b[0;34m,\u001b[0m \u001b[0mMetaModule\u001b[0m\u001b[0;34m)\u001b[0m\u001b[0;34m:\u001b[0m\u001b[0;34m\u001b[0m\u001b[0;34m\u001b[0m\u001b[0m\n\u001b[0;32m---> 12\u001b[0;31m                 \u001b[0minput\u001b[0m \u001b[0;34m=\u001b[0m \u001b[0mmodule\u001b[0m\u001b[0;34m(\u001b[0m\u001b[0minput\u001b[0m\u001b[0;34m,\u001b[0m \u001b[0mparams\u001b[0m\u001b[0;34m=\u001b[0m\u001b[0mget_subdict\u001b[0m\u001b[0;34m(\u001b[0m\u001b[0mparams\u001b[0m\u001b[0;34m,\u001b[0m \u001b[0mname\u001b[0m\u001b[0;34m)\u001b[0m\u001b[0;34m)\u001b[0m\u001b[0;34m\u001b[0m\u001b[0;34m\u001b[0m\u001b[0m\n\u001b[0m\u001b[1;32m     13\u001b[0m             \u001b[0;32melif\u001b[0m \u001b[0misinstance\u001b[0m\u001b[0;34m(\u001b[0m\u001b[0mmodule\u001b[0m\u001b[0;34m,\u001b[0m \u001b[0mnn\u001b[0m\u001b[0;34m.\u001b[0m\u001b[0mModule\u001b[0m\u001b[0;34m)\u001b[0m\u001b[0;34m:\u001b[0m\u001b[0;34m\u001b[0m\u001b[0;34m\u001b[0m\u001b[0m\n\u001b[1;32m     14\u001b[0m                 \u001b[0minput\u001b[0m \u001b[0;34m=\u001b[0m \u001b[0mmodule\u001b[0m\u001b[0;34m(\u001b[0m\u001b[0minput\u001b[0m\u001b[0;34m)\u001b[0m\u001b[0;34m\u001b[0m\u001b[0;34m\u001b[0m\u001b[0m\n",
            "\u001b[0;32m/usr/local/lib/python3.7/dist-packages/torch/nn/modules/module.py\u001b[0m in \u001b[0;36m_call_impl\u001b[0;34m(self, *input, **kwargs)\u001b[0m\n\u001b[1;32m    887\u001b[0m             \u001b[0mresult\u001b[0m \u001b[0;34m=\u001b[0m \u001b[0mself\u001b[0m\u001b[0;34m.\u001b[0m\u001b[0m_slow_forward\u001b[0m\u001b[0;34m(\u001b[0m\u001b[0;34m*\u001b[0m\u001b[0minput\u001b[0m\u001b[0;34m,\u001b[0m \u001b[0;34m**\u001b[0m\u001b[0mkwargs\u001b[0m\u001b[0;34m)\u001b[0m\u001b[0;34m\u001b[0m\u001b[0;34m\u001b[0m\u001b[0m\n\u001b[1;32m    888\u001b[0m         \u001b[0;32melse\u001b[0m\u001b[0;34m:\u001b[0m\u001b[0;34m\u001b[0m\u001b[0;34m\u001b[0m\u001b[0m\n\u001b[0;32m--> 889\u001b[0;31m             \u001b[0mresult\u001b[0m \u001b[0;34m=\u001b[0m \u001b[0mself\u001b[0m\u001b[0;34m.\u001b[0m\u001b[0mforward\u001b[0m\u001b[0;34m(\u001b[0m\u001b[0;34m*\u001b[0m\u001b[0minput\u001b[0m\u001b[0;34m,\u001b[0m \u001b[0;34m**\u001b[0m\u001b[0mkwargs\u001b[0m\u001b[0;34m)\u001b[0m\u001b[0;34m\u001b[0m\u001b[0;34m\u001b[0m\u001b[0m\n\u001b[0m\u001b[1;32m    890\u001b[0m         for hook in itertools.chain(\n\u001b[1;32m    891\u001b[0m                 \u001b[0m_global_forward_hooks\u001b[0m\u001b[0;34m.\u001b[0m\u001b[0mvalues\u001b[0m\u001b[0;34m(\u001b[0m\u001b[0;34m)\u001b[0m\u001b[0;34m,\u001b[0m\u001b[0;34m\u001b[0m\u001b[0;34m\u001b[0m\u001b[0m\n",
            "\u001b[0;32m/content/siren/modules.py\u001b[0m in \u001b[0;36mforward\u001b[0;34m(self, input, params)\u001b[0m\n\u001b[1;32m     21\u001b[0m         \u001b[0mweight\u001b[0m \u001b[0;34m=\u001b[0m \u001b[0mparams\u001b[0m\u001b[0;34m[\u001b[0m\u001b[0;34m'weight'\u001b[0m\u001b[0;34m]\u001b[0m\u001b[0;34m\u001b[0m\u001b[0;34m\u001b[0m\u001b[0m\n\u001b[1;32m     22\u001b[0m \u001b[0;34m\u001b[0m\u001b[0m\n\u001b[0;32m---> 23\u001b[0;31m         \u001b[0moutput\u001b[0m \u001b[0;34m=\u001b[0m \u001b[0minput\u001b[0m\u001b[0;34m.\u001b[0m\u001b[0mmatmul\u001b[0m\u001b[0;34m(\u001b[0m\u001b[0mweight\u001b[0m\u001b[0;34m.\u001b[0m\u001b[0mpermute\u001b[0m\u001b[0;34m(\u001b[0m\u001b[0;34m*\u001b[0m\u001b[0;34m[\u001b[0m\u001b[0mi\u001b[0m \u001b[0;32mfor\u001b[0m \u001b[0mi\u001b[0m \u001b[0;32min\u001b[0m \u001b[0mrange\u001b[0m\u001b[0;34m(\u001b[0m\u001b[0mlen\u001b[0m\u001b[0;34m(\u001b[0m\u001b[0mweight\u001b[0m\u001b[0;34m.\u001b[0m\u001b[0mshape\u001b[0m\u001b[0;34m)\u001b[0m \u001b[0;34m-\u001b[0m \u001b[0;36m2\u001b[0m\u001b[0;34m)\u001b[0m\u001b[0;34m]\u001b[0m\u001b[0;34m,\u001b[0m \u001b[0;34m-\u001b[0m\u001b[0;36m1\u001b[0m\u001b[0;34m,\u001b[0m \u001b[0;34m-\u001b[0m\u001b[0;36m2\u001b[0m\u001b[0;34m)\u001b[0m\u001b[0;34m)\u001b[0m\u001b[0;34m\u001b[0m\u001b[0;34m\u001b[0m\u001b[0m\n\u001b[0m\u001b[1;32m     24\u001b[0m         \u001b[0moutput\u001b[0m \u001b[0;34m+=\u001b[0m \u001b[0mbias\u001b[0m\u001b[0;34m.\u001b[0m\u001b[0munsqueeze\u001b[0m\u001b[0;34m(\u001b[0m\u001b[0;34m-\u001b[0m\u001b[0;36m2\u001b[0m\u001b[0;34m)\u001b[0m\u001b[0;34m\u001b[0m\u001b[0;34m\u001b[0m\u001b[0m\n\u001b[1;32m     25\u001b[0m         \u001b[0;32mreturn\u001b[0m \u001b[0moutput\u001b[0m\u001b[0;34m\u001b[0m\u001b[0;34m\u001b[0m\u001b[0m\n",
            "\u001b[0;31mKeyboardInterrupt\u001b[0m: "
          ]
        }
      ]
    },
    {
      "cell_type": "code",
      "metadata": {
        "colab": {
          "base_uri": "https://localhost:8080/",
          "height": 232
        },
        "id": "CNT_kaQqeVA-",
        "outputId": "c0fbab06-1dec-42d0-cef7-8267516c1775"
      },
      "source": [
        "total_steps = 1000000 # Since the whole image is our dataset, this just means 500 gradient descent steps.\n",
        "steps_til_summary = 50\n",
        "\n",
        "optim = torch.optim.Adam(lr=1e-6, params=net.hyper_net.parameters())\n",
        "\n",
        "# model_input, ground_truth = get_mgrid(28, 2), torch.Tensor(np.array(mnist_trainset[step % len(mnist_trainset)][0])).reshape((784, 1))\n",
        "# model_input, ground_truth = model_input.cuda(), ground_truth.cuda()\n",
        "\n",
        "for step in range(total_steps):\n",
        "    \n",
        "    out = net({'embedding': ground_truth.view((1, 784)).cuda(), 'coords': model_input.cuda()})\n",
        "    model_output = nn.Sigmoid()(out[\"model_out\"])\n",
        "    hypo_params = out[\"hypo_params\"]\n",
        "    all_hypo_params = torch.cat([x.view(-1) for x in list(hypo_params.values())])\n",
        "    # model_output, coords = img_siren(model_input)    \n",
        "    loss = ((model_output.cuda() - (ground_truth / 255))**2).mean() + 1000 * ((all_hypo_params.cuda())**2).mean()\n",
        "    \n",
        "    if not step % 250:\n",
        "        print(\"Step %d, Total loss %0.6f\" % (step, loss))\n",
        "\n",
        "        print(torch.max(model_output))\n",
        "        print(torch.max(ground_truth))\n",
        "\n",
        "        fig, axes = plt.subplots(1,3, figsize=(18,6))\n",
        "        axes[0].imshow(model_output.cpu().view(28,28).detach().numpy())\n",
        "        axes[1].imshow((ground_truth / 255).cpu().view(28,28).detach().numpy())\n",
        "        plt.show()\n",
        "\n",
        "    optim.zero_grad()\n",
        "    loss.backward()\n",
        "    optim.step()"
      ],
      "execution_count": null,
      "outputs": [
        {
          "output_type": "error",
          "ename": "NameError",
          "evalue": "ignored",
          "traceback": [
            "\u001b[0;31m---------------------------------------------------------------------------\u001b[0m",
            "\u001b[0;31mNameError\u001b[0m                                 Traceback (most recent call last)",
            "\u001b[0;32m<ipython-input-17-7c4cb6034913>\u001b[0m in \u001b[0;36m<module>\u001b[0;34m()\u001b[0m\n\u001b[1;32m      2\u001b[0m \u001b[0msteps_til_summary\u001b[0m \u001b[0;34m=\u001b[0m \u001b[0;36m50\u001b[0m\u001b[0;34m\u001b[0m\u001b[0;34m\u001b[0m\u001b[0m\n\u001b[1;32m      3\u001b[0m \u001b[0;34m\u001b[0m\u001b[0m\n\u001b[0;32m----> 4\u001b[0;31m \u001b[0moptim\u001b[0m \u001b[0;34m=\u001b[0m \u001b[0mtorch\u001b[0m\u001b[0;34m.\u001b[0m\u001b[0moptim\u001b[0m\u001b[0;34m.\u001b[0m\u001b[0mAdam\u001b[0m\u001b[0;34m(\u001b[0m\u001b[0mlr\u001b[0m\u001b[0;34m=\u001b[0m\u001b[0;36m1e-6\u001b[0m\u001b[0;34m,\u001b[0m \u001b[0mparams\u001b[0m\u001b[0;34m=\u001b[0m\u001b[0mnet\u001b[0m\u001b[0;34m.\u001b[0m\u001b[0mhyper_net\u001b[0m\u001b[0;34m.\u001b[0m\u001b[0mparameters\u001b[0m\u001b[0;34m(\u001b[0m\u001b[0;34m)\u001b[0m\u001b[0;34m)\u001b[0m\u001b[0;34m\u001b[0m\u001b[0;34m\u001b[0m\u001b[0m\n\u001b[0m\u001b[1;32m      5\u001b[0m \u001b[0;34m\u001b[0m\u001b[0m\n\u001b[1;32m      6\u001b[0m \u001b[0;31m# model_input, ground_truth = get_mgrid(28, 2), torch.Tensor(np.array(mnist_trainset[step % len(mnist_trainset)][0])).reshape((784, 1))\u001b[0m\u001b[0;34m\u001b[0m\u001b[0;34m\u001b[0m\u001b[0;34m\u001b[0m\u001b[0m\n",
            "\u001b[0;31mNameError\u001b[0m: name 'net' is not defined"
          ]
        }
      ]
    },
    {
      "cell_type": "code",
      "metadata": {
        "colab": {
          "base_uri": "https://localhost:8080/"
        },
        "id": "AaGVJZGojWTC",
        "outputId": "1316cc02-8d1c-4215-af29-c058848dc82f"
      },
      "source": [
        "net = ConvolutionalNeuralProcessImplicit2DHypernet(1, 1, image_resolution=28)\n",
        "net.cuda()"
      ],
      "execution_count": 25,
      "outputs": [
        {
          "output_type": "execute_result",
          "data": {
            "text/plain": [
              "ConvolutionalNeuralProcessImplicit2DHypernet(\n",
              "  (encoder): ConvImgEncoder(\n",
              "    (conv_theta): Conv2d(1, 128, kernel_size=(3, 3), stride=(1, 1), padding=(1, 1))\n",
              "    (relu): ReLU(inplace=True)\n",
              "    (cnn): Sequential(\n",
              "      (0): Conv2d(128, 256, kernel_size=(3, 3), stride=(1, 1), padding=(1, 1))\n",
              "      (1): ReLU()\n",
              "      (2): Conv2dResBlock(\n",
              "        (convs): Sequential(\n",
              "          (0): Conv2d(256, 256, kernel_size=(5, 5), stride=(1, 1), padding=(2, 2))\n",
              "          (1): ReLU()\n",
              "          (2): Conv2d(256, 256, kernel_size=(5, 5), stride=(1, 1), padding=(2, 2))\n",
              "          (3): ReLU()\n",
              "        )\n",
              "        (final_relu): ReLU()\n",
              "      )\n",
              "      (3): Conv2dResBlock(\n",
              "        (convs): Sequential(\n",
              "          (0): Conv2d(256, 256, kernel_size=(5, 5), stride=(1, 1), padding=(2, 2))\n",
              "          (1): ReLU()\n",
              "          (2): Conv2d(256, 256, kernel_size=(5, 5), stride=(1, 1), padding=(2, 2))\n",
              "          (3): ReLU()\n",
              "        )\n",
              "        (final_relu): ReLU()\n",
              "      )\n",
              "      (4): Conv2dResBlock(\n",
              "        (convs): Sequential(\n",
              "          (0): Conv2d(256, 256, kernel_size=(5, 5), stride=(1, 1), padding=(2, 2))\n",
              "          (1): ReLU()\n",
              "          (2): Conv2d(256, 256, kernel_size=(5, 5), stride=(1, 1), padding=(2, 2))\n",
              "          (3): ReLU()\n",
              "        )\n",
              "        (final_relu): ReLU()\n",
              "      )\n",
              "      (5): Conv2dResBlock(\n",
              "        (convs): Sequential(\n",
              "          (0): Conv2d(256, 256, kernel_size=(5, 5), stride=(1, 1), padding=(2, 2))\n",
              "          (1): ReLU()\n",
              "          (2): Conv2d(256, 256, kernel_size=(5, 5), stride=(1, 1), padding=(2, 2))\n",
              "          (3): ReLU()\n",
              "        )\n",
              "        (final_relu): ReLU()\n",
              "      )\n",
              "      (6): Conv2d(256, 256, kernel_size=(1, 1), stride=(1, 1))\n",
              "    )\n",
              "    (relu_2): ReLU(inplace=True)\n",
              "    (fc): Linear(in_features=784, out_features=1, bias=True)\n",
              "  )\n",
              "  (hypo_net): FCBlock(\n",
              "    (net): MetaSequential(\n",
              "      (0): MetaSequential(\n",
              "        (0): BatchLinear(in_features=2, out_features=256, bias=True)\n",
              "        (1): Sine()\n",
              "      )\n",
              "      (1): MetaSequential(\n",
              "        (0): BatchLinear(in_features=256, out_features=256, bias=True)\n",
              "        (1): Sine()\n",
              "      )\n",
              "      (2): MetaSequential(\n",
              "        (0): BatchLinear(in_features=256, out_features=256, bias=True)\n",
              "        (1): Sine()\n",
              "      )\n",
              "      (3): MetaSequential(\n",
              "        (0): BatchLinear(in_features=256, out_features=256, bias=True)\n",
              "        (1): Sine()\n",
              "      )\n",
              "      (4): MetaSequential(\n",
              "        (0): BatchLinear(in_features=256, out_features=1, bias=True)\n",
              "      )\n",
              "    )\n",
              "  )\n",
              "  (hyper_net): HyperNetwork(\n",
              "    (nets): ModuleList(\n",
              "      (0): FCBlock(\n",
              "        (net): MetaSequential(\n",
              "          (0): MetaSequential(\n",
              "            (0): BatchLinear(in_features=256, out_features=256, bias=True)\n",
              "            (1): ReLU(inplace=True)\n",
              "          )\n",
              "          (1): MetaSequential(\n",
              "            (0): BatchLinear(in_features=256, out_features=256, bias=True)\n",
              "            (1): ReLU(inplace=True)\n",
              "          )\n",
              "          (2): MetaSequential(\n",
              "            (0): BatchLinear(in_features=256, out_features=512, bias=True)\n",
              "          )\n",
              "        )\n",
              "      )\n",
              "      (1): FCBlock(\n",
              "        (net): MetaSequential(\n",
              "          (0): MetaSequential(\n",
              "            (0): BatchLinear(in_features=256, out_features=256, bias=True)\n",
              "            (1): ReLU(inplace=True)\n",
              "          )\n",
              "          (1): MetaSequential(\n",
              "            (0): BatchLinear(in_features=256, out_features=256, bias=True)\n",
              "            (1): ReLU(inplace=True)\n",
              "          )\n",
              "          (2): MetaSequential(\n",
              "            (0): BatchLinear(in_features=256, out_features=256, bias=True)\n",
              "          )\n",
              "        )\n",
              "      )\n",
              "      (2): FCBlock(\n",
              "        (net): MetaSequential(\n",
              "          (0): MetaSequential(\n",
              "            (0): BatchLinear(in_features=256, out_features=256, bias=True)\n",
              "            (1): ReLU(inplace=True)\n",
              "          )\n",
              "          (1): MetaSequential(\n",
              "            (0): BatchLinear(in_features=256, out_features=256, bias=True)\n",
              "            (1): ReLU(inplace=True)\n",
              "          )\n",
              "          (2): MetaSequential(\n",
              "            (0): BatchLinear(in_features=256, out_features=65536, bias=True)\n",
              "          )\n",
              "        )\n",
              "      )\n",
              "      (3): FCBlock(\n",
              "        (net): MetaSequential(\n",
              "          (0): MetaSequential(\n",
              "            (0): BatchLinear(in_features=256, out_features=256, bias=True)\n",
              "            (1): ReLU(inplace=True)\n",
              "          )\n",
              "          (1): MetaSequential(\n",
              "            (0): BatchLinear(in_features=256, out_features=256, bias=True)\n",
              "            (1): ReLU(inplace=True)\n",
              "          )\n",
              "          (2): MetaSequential(\n",
              "            (0): BatchLinear(in_features=256, out_features=256, bias=True)\n",
              "          )\n",
              "        )\n",
              "      )\n",
              "      (4): FCBlock(\n",
              "        (net): MetaSequential(\n",
              "          (0): MetaSequential(\n",
              "            (0): BatchLinear(in_features=256, out_features=256, bias=True)\n",
              "            (1): ReLU(inplace=True)\n",
              "          )\n",
              "          (1): MetaSequential(\n",
              "            (0): BatchLinear(in_features=256, out_features=256, bias=True)\n",
              "            (1): ReLU(inplace=True)\n",
              "          )\n",
              "          (2): MetaSequential(\n",
              "            (0): BatchLinear(in_features=256, out_features=65536, bias=True)\n",
              "          )\n",
              "        )\n",
              "      )\n",
              "      (5): FCBlock(\n",
              "        (net): MetaSequential(\n",
              "          (0): MetaSequential(\n",
              "            (0): BatchLinear(in_features=256, out_features=256, bias=True)\n",
              "            (1): ReLU(inplace=True)\n",
              "          )\n",
              "          (1): MetaSequential(\n",
              "            (0): BatchLinear(in_features=256, out_features=256, bias=True)\n",
              "            (1): ReLU(inplace=True)\n",
              "          )\n",
              "          (2): MetaSequential(\n",
              "            (0): BatchLinear(in_features=256, out_features=256, bias=True)\n",
              "          )\n",
              "        )\n",
              "      )\n",
              "      (6): FCBlock(\n",
              "        (net): MetaSequential(\n",
              "          (0): MetaSequential(\n",
              "            (0): BatchLinear(in_features=256, out_features=256, bias=True)\n",
              "            (1): ReLU(inplace=True)\n",
              "          )\n",
              "          (1): MetaSequential(\n",
              "            (0): BatchLinear(in_features=256, out_features=256, bias=True)\n",
              "            (1): ReLU(inplace=True)\n",
              "          )\n",
              "          (2): MetaSequential(\n",
              "            (0): BatchLinear(in_features=256, out_features=65536, bias=True)\n",
              "          )\n",
              "        )\n",
              "      )\n",
              "      (7): FCBlock(\n",
              "        (net): MetaSequential(\n",
              "          (0): MetaSequential(\n",
              "            (0): BatchLinear(in_features=256, out_features=256, bias=True)\n",
              "            (1): ReLU(inplace=True)\n",
              "          )\n",
              "          (1): MetaSequential(\n",
              "            (0): BatchLinear(in_features=256, out_features=256, bias=True)\n",
              "            (1): ReLU(inplace=True)\n",
              "          )\n",
              "          (2): MetaSequential(\n",
              "            (0): BatchLinear(in_features=256, out_features=256, bias=True)\n",
              "          )\n",
              "        )\n",
              "      )\n",
              "      (8): FCBlock(\n",
              "        (net): MetaSequential(\n",
              "          (0): MetaSequential(\n",
              "            (0): BatchLinear(in_features=256, out_features=256, bias=True)\n",
              "            (1): ReLU(inplace=True)\n",
              "          )\n",
              "          (1): MetaSequential(\n",
              "            (0): BatchLinear(in_features=256, out_features=256, bias=True)\n",
              "            (1): ReLU(inplace=True)\n",
              "          )\n",
              "          (2): MetaSequential(\n",
              "            (0): BatchLinear(in_features=256, out_features=256, bias=True)\n",
              "          )\n",
              "        )\n",
              "      )\n",
              "      (9): FCBlock(\n",
              "        (net): MetaSequential(\n",
              "          (0): MetaSequential(\n",
              "            (0): BatchLinear(in_features=256, out_features=256, bias=True)\n",
              "            (1): ReLU(inplace=True)\n",
              "          )\n",
              "          (1): MetaSequential(\n",
              "            (0): BatchLinear(in_features=256, out_features=256, bias=True)\n",
              "            (1): ReLU(inplace=True)\n",
              "          )\n",
              "          (2): MetaSequential(\n",
              "            (0): BatchLinear(in_features=256, out_features=1, bias=True)\n",
              "          )\n",
              "        )\n",
              "      )\n",
              "    )\n",
              "  )\n",
              ")"
            ]
          },
          "metadata": {
            "tags": []
          },
          "execution_count": 25
        }
      ]
    },
    {
      "cell_type": "code",
      "metadata": {
        "id": "6tLtEcPNhz4O"
      },
      "source": [
        "class SineLayer(nn.Module):\n",
        "    # See paper sec. 3.2, final paragraph, and supplement Sec. 1.5 for discussion of omega_0.\n",
        "    \n",
        "    # If is_first=True, omega_0 is a frequency factor which simply multiplies the activations before the \n",
        "    # nonlinearity. Different signals may require different omega_0 in the first layer - this is a \n",
        "    # hyperparameter.\n",
        "    \n",
        "    # If is_first=False, then the weights will be divided by omega_0 so as to keep the magnitude of \n",
        "    # activations constant, but boost gradients to the weight matrix (see supplement Sec. 1.5)\n",
        "    \n",
        "    def __init__(self, in_features, out_features, bias=True,\n",
        "                 is_first=False, omega_0=30):\n",
        "        super().__init__()\n",
        "        self.omega_0 = omega_0\n",
        "        self.is_first = is_first\n",
        "        \n",
        "        self.in_features = in_features\n",
        "        self.linear = nn.Linear(in_features, out_features, bias=bias)\n",
        "        \n",
        "        self.init_weights()\n",
        "    \n",
        "    def init_weights(self):\n",
        "        with torch.no_grad():\n",
        "            if self.is_first:\n",
        "                self.linear.weight.uniform_(-1 / self.in_features, \n",
        "                                             1 / self.in_features)      \n",
        "            else:\n",
        "                self.linear.weight.uniform_(-np.sqrt(6 / self.in_features) / self.omega_0, \n",
        "                                             np.sqrt(6 / self.in_features) / self.omega_0)\n",
        "        \n",
        "    def forward(self, input):\n",
        "        return torch.sin(self.omega_0 * self.linear(input))\n",
        "    \n",
        "    def forward_with_intermediate(self, input): \n",
        "        # For visualization of activation distributions\n",
        "        intermediate = self.omega_0 * self.linear(input)\n",
        "        return torch.sin(intermediate), intermediate\n",
        "    \n",
        "    \n",
        "class Siren(nn.Module):\n",
        "    def __init__(self, in_features, hidden_features, hidden_layers, out_features, outermost_linear=False, \n",
        "                 first_omega_0=30, hidden_omega_0=30.):\n",
        "        super().__init__()\n",
        "        \n",
        "        self.net = []\n",
        "        self.net.append(SineLayer(in_features, hidden_features, \n",
        "                                  is_first=True, omega_0=first_omega_0))\n",
        "\n",
        "        for i in range(hidden_layers):\n",
        "            self.net.append(SineLayer(hidden_features, hidden_features, \n",
        "                                      is_first=False, omega_0=hidden_omega_0))\n",
        "\n",
        "        if outermost_linear:\n",
        "            final_linear = nn.Linear(hidden_features, out_features)\n",
        "            \n",
        "            with torch.no_grad():\n",
        "                final_linear.weight.uniform_(-np.sqrt(6 / hidden_features) / hidden_omega_0, \n",
        "                                              np.sqrt(6 / hidden_features) / hidden_omega_0)\n",
        "                \n",
        "            self.net.append(final_linear)\n",
        "        else:\n",
        "            self.net.append(SineLayer(hidden_features, out_features, \n",
        "                                      is_first=False, omega_0=hidden_omega_0))\n",
        "        \n",
        "        self.net = nn.Sequential(*self.net)\n",
        "    \n",
        "    def forward(self, coords):\n",
        "        coords = coords.clone().detach().requires_grad_(True) # allows to take derivative w.r.t. input\n",
        "        output = self.net(coords)\n",
        "        return output, coords        \n",
        "\n",
        "    def forward_with_activations(self, coords, retain_grad=False):\n",
        "        '''Returns not only model output, but also intermediate activations.\n",
        "        Only used for visualizing activations later!'''\n",
        "        activations = OrderedDict()\n",
        "\n",
        "        activation_count = 0\n",
        "        x = coords.clone().detach().requires_grad_(True)\n",
        "        activations['input'] = x\n",
        "        for i, layer in enumerate(self.net):\n",
        "            if isinstance(layer, SineLayer):\n",
        "                x, intermed = layer.forward_with_intermediate(x)\n",
        "                \n",
        "                if retain_grad:\n",
        "                    x.retain_grad()\n",
        "                    intermed.retain_grad()\n",
        "                    \n",
        "                activations['_'.join((str(layer.__class__), \"%d\" % activation_count))] = intermed\n",
        "                activation_count += 1\n",
        "            else: \n",
        "                x = layer(x)\n",
        "                \n",
        "                if retain_grad:\n",
        "                    x.retain_grad()\n",
        "                    \n",
        "            activations['_'.join((str(layer.__class__), \"%d\" % activation_count))] = x\n",
        "            activation_count += 1\n",
        "\n",
        "        return activations"
      ],
      "execution_count": 26,
      "outputs": []
    },
    {
      "cell_type": "code",
      "metadata": {
        "id": "FAPuXmUepoD7"
      },
      "source": [
        "class MNISTSirenDataset(torch.utils.data.Dataset):\n",
        "    def __init__(self, trainMNIST):\n",
        "        \"\"\"\n",
        "        Args:\n",
        "            csv_file (string): Path to the csv file with annotations.\n",
        "            root_dir (string): Directory with all the images.\n",
        "            transform (callable, optional): Optional transform to be applied\n",
        "                on a sample.\n",
        "        \"\"\"\n",
        "        self.trainMNIST = trainMNIST\n",
        "\n",
        "    def __len__(self):\n",
        "        return len(self.trainMNIST)\n",
        "\n",
        "    def __getitem__(self, idx):\n",
        "        image = torch.Tensor(np.array(self.trainMNIST[idx][0])).reshape((784, 1))\n",
        "        coord = get_mgrid(28, 2)\n",
        "\n",
        "        print((self.trainMNIST[idx, 1]))\n",
        "\n",
        "        return image, coord, torch.Tensor((self.trainMNIST[idx, 1])).reshape((1, 1))"
      ],
      "execution_count": 27,
      "outputs": []
    },
    {
      "cell_type": "code",
      "metadata": {
        "colab": {
          "base_uri": "https://localhost:8080/"
        },
        "id": "N7v-UXZ1dRQm",
        "outputId": "afb10ec6-0dcf-4073-e42f-b6842995d135"
      },
      "source": [
        "print(torch.Tensor(np.array(mnist_trainset[0][1])).shape)"
      ],
      "execution_count": 28,
      "outputs": [
        {
          "output_type": "stream",
          "text": [
            "torch.Size([5])\n"
          ],
          "name": "stdout"
        }
      ]
    },
    {
      "cell_type": "code",
      "metadata": {
        "id": "z6DRBrITqWfd"
      },
      "source": [
        "loader = DataLoader(MNISTSirenDataset(mnist_trainset), batch_size=32, shuffle=True)"
      ],
      "execution_count": 29,
      "outputs": []
    },
    {
      "cell_type": "code",
      "metadata": {
        "id": "UEsJ6znWbHp2"
      },
      "source": [
        "def create_parameter_tensor(p):\n",
        "  w0 = p[\"net.0.0.weight\"].unsqueeze(1).repeat(1, 1, 1, 128)\n",
        "  w1 = p[\"net.1.0.weight\"].unsqueeze(1)\n",
        "  w2 = p[\"net.2.0.weight\"].unsqueeze(1)\n",
        "  w3 = p[\"net.3.0.weight\"].unsqueeze(1)\n",
        "  w4 = p[\"net.4.0.weight\"].unsqueeze(1).repeat(1, 1, 256, 1)\n",
        "\n",
        "  w = torch.cat((w0, w1, w2, w3, w4), dim=1)\n",
        "\n",
        "  return w"
      ],
      "execution_count": 30,
      "outputs": []
    },
    {
      "cell_type": "code",
      "metadata": {
        "id": "kKi_3o2iXA5i"
      },
      "source": [
        "class MNISTSirenDataset(torch.utils.data.Dataset):\n",
        "    def __init__(self, trainMNIST, upsample=1):\n",
        "        \"\"\"\n",
        "        Args:\n",
        "            csv_file (string): Path to the csv file with annotations.\n",
        "            root_dir (string): Directory with all the images.\n",
        "            transform (callable, optional): Optional transform to be applied\n",
        "                on a sample.\n",
        "        \"\"\"\n",
        "        self.trainMNIST = trainMNIST\n",
        "        self.upsample = upsample\n",
        "\n",
        "    def __len__(self):\n",
        "        return len(self.trainMNIST)\n",
        "\n",
        "    def __getitem__(self, idx):\n",
        "        image = torch.Tensor(np.array(self.trainMNIST[idx][0])).reshape((784, 1))\n",
        "\n",
        "        coord = get_mgrid(28 * self.upsample, 2)\n",
        "                            \n",
        "        return image, coord, int(self.trainMNIST[idx][1])"
      ],
      "execution_count": 31,
      "outputs": []
    },
    {
      "cell_type": "code",
      "metadata": {
        "id": "-2_Doad30cxQ"
      },
      "source": [
        "# torch.save(net.state_dict(), \"mnist_siren\")"
      ],
      "execution_count": 32,
      "outputs": []
    },
    {
      "cell_type": "code",
      "metadata": {
        "id": "fyNmt0L5jfqf"
      },
      "source": [
        "import torch.nn as nn\n",
        "import torch.nn.functional as F\n",
        "\n",
        "\n",
        "class MNISTClassifierNet(nn.Module):\n",
        "    def __init__(self):\n",
        "        super().__init__()\n",
        "        self.conv1 = nn.Conv2d(5, 6, 5)\n",
        "        self.pool1 = nn.MaxPool2d(2, 2)\n",
        "        self.conv2 = nn.Conv2d(6, 16, 5)\n",
        "        self.pool2 = nn.MaxPool2d(2, 2)\n",
        "        self.conv3 = nn.Conv2d(16, 16, 5)\n",
        "        self.pool3 = nn.MaxPool2d(2, 2)\n",
        "        self.conv4 = nn.Conv2d(16, 16, 5)\n",
        "        self.pool4 = nn.MaxPool2d(2, 2)\n",
        "        self.fc1 = nn.Linear(16 * 12 * 12, 120)\n",
        "        self.fc2 = nn.Linear(120, 84)\n",
        "        self.fc3 = nn.Linear(84, 10)\n",
        "\n",
        "    def forward(self, x):\n",
        "        x = self.pool1(F.relu(self.conv1(x)))\n",
        "        x = self.pool2(F.relu(self.conv2(x)))\n",
        "        x = self.pool3(F.relu(self.conv3(x)))\n",
        "        x = self.pool4(F.relu(self.conv4(x)))\n",
        "        x = x.view(-1, 16 * 12 * 12)\n",
        "        x = F.relu(self.fc1(x))\n",
        "        x = F.relu(self.fc2(x))\n",
        "        x = self.fc3(x)\n",
        "        return x"
      ],
      "execution_count": 33,
      "outputs": []
    },
    {
      "cell_type": "code",
      "metadata": {
        "colab": {
          "base_uri": "https://localhost:8080/"
        },
        "id": "Md2yQJPklUfG",
        "outputId": "422339eb-72a8-4482-c342-2f2b7077d6ce"
      },
      "source": [
        "new_ = MNISTClassifierNet()\n",
        "print(new_(torch.ones((1, 5, 256, 256))).shape)"
      ],
      "execution_count": 34,
      "outputs": [
        {
          "output_type": "stream",
          "text": [
            "torch.Size([1, 10])\n"
          ],
          "name": "stdout"
        }
      ]
    },
    {
      "cell_type": "code",
      "metadata": {
        "id": "ci3IWXl7HfjM"
      },
      "source": [
        "import torch.nn as nn\n",
        "import torch.nn.functional as F\n",
        "\n",
        "\n",
        "class MNISTClassifierFromLatentNet(nn.Module):\n",
        "    def __init__(self, dim):\n",
        "        super().__init__()\n",
        "        self.fc1 = nn.Linear(dim, dim // 2)\n",
        "        self.fc2 = nn.Linear(dim // 2, 10)\n",
        "\n",
        "    def forward(self, x):\n",
        "        x = F.relu(self.fc1(x))\n",
        "        x = self.fc2(x)\n",
        "        return x"
      ],
      "execution_count": 35,
      "outputs": []
    },
    {
      "cell_type": "code",
      "metadata": {
        "id": "7iUVR7nhnywo"
      },
      "source": [
        ""
      ],
      "execution_count": null,
      "outputs": []
    },
    {
      "cell_type": "markdown",
      "metadata": {
        "id": "FaWCaHXDnzBx"
      },
      "source": [
        "# Classifier from CNN Latent"
      ]
    },
    {
      "cell_type": "code",
      "metadata": {
        "colab": {
          "base_uri": "https://localhost:8080/",
          "height": 283
        },
        "id": "WC0L004vBusR",
        "outputId": "7a9cff6a-e315-418c-bde9-3be010a0bca3"
      },
      "source": [
        "loader = DataLoader(MNISTSirenDataset(mnist_trainset), batch_size=32, shuffle=True)\n",
        "\n",
        "classifier = MNISTClassifierFromLatentNet(dim=256).cuda()\n",
        "\n",
        "total_steps = 1000000 # Since the whole image is our dataset, this just means 500 gradient descent steps.\n",
        "steps_til_summary = 50\n",
        "batch_size = 8\n",
        "\n",
        "optim = torch.optim.Adam(lr=1e-3, params=[\n",
        "                            {'params': classifier.parameters()},\n",
        "                            # {'params': net.encoder.parameters()}\n",
        "                        ])\n",
        "\n",
        "for e in range(100):\n",
        "  for i, (img, coords, label) in enumerate(loader):\n",
        "      \n",
        "      # model_input, ground_truth = coords# get_mgrid(28, 2), torch.Tensor(np.array(mnist_trainset[step % len(mnist_trainset)][0])).reshape((784, 1))\n",
        "      # model_input, ground_truth = model_input.cuda(), ground_truth.cuda()\n",
        "\n",
        "      with torch.no_grad():\n",
        "        img, coords = img.cuda(), coords.cuda()\n",
        "\n",
        "        out = net_2({'img_sparse': img.view((32, 1, 28, 28)).cuda(), 'coords': coords.cuda()})\n",
        "\n",
        "        model_output = out[\"model_out\"]\n",
        "        embedding = out[\"latent_vec\"]\n",
        "        hypo_params = out[\"hypo_params\"]\n",
        "\n",
        "        # W_param = create_parameter_tensor(hypo_params)\n",
        "\n",
        "      out_ = classifier(embedding.cuda())\n",
        "\n",
        "      # all_hypo_params = torch.cat([x.view(-1) for x in list(hypo_params.values())])\n",
        "\n",
        "      loss = nn.CrossEntropyLoss()(out_, label.cuda()) # ((model_output.cuda() - (img / 255))**2).mean() + 0.1 * ((embedding.cuda())**2).mean() + 100 * ((all_hypo_params.cuda())**2).mean()\n",
        "      \n",
        "      if not i % 450:\n",
        "          print(\"Step %d, Total loss %0.6f\" % (i, loss))\n",
        "\n",
        "          # fig, axes = plt.subplots(1,3, figsize=(18,6))\n",
        "          # axes[0].imshow((model_output[0]).cpu().view(28,28).detach().numpy())\n",
        "          # axes[1].imshow((img / 255)[0].cpu().view(28,28).detach().numpy())\n",
        "          # plt.show()\n",
        "\n",
        "      optim.zero_grad()\n",
        "      loss.backward()\n",
        "      optim.step()"
      ],
      "execution_count": 53,
      "outputs": [
        {
          "output_type": "stream",
          "text": [
            "Step 0, Total loss 2.310225\n",
            "Step 450, Total loss 0.327814\n"
          ],
          "name": "stdout"
        },
        {
          "output_type": "error",
          "ename": "KeyboardInterrupt",
          "evalue": "ignored",
          "traceback": [
            "\u001b[0;31m---------------------------------------------------------------------------\u001b[0m",
            "\u001b[0;31mKeyboardInterrupt\u001b[0m                         Traceback (most recent call last)",
            "\u001b[0;32m<ipython-input-53-3e40a1252d85>\u001b[0m in \u001b[0;36m<module>\u001b[0;34m()\u001b[0m\n\u001b[1;32m     33\u001b[0m       \u001b[0;31m# all_hypo_params = torch.cat([x.view(-1) for x in list(hypo_params.values())])\u001b[0m\u001b[0;34m\u001b[0m\u001b[0;34m\u001b[0m\u001b[0;34m\u001b[0m\u001b[0m\n\u001b[1;32m     34\u001b[0m \u001b[0;34m\u001b[0m\u001b[0m\n\u001b[0;32m---> 35\u001b[0;31m       \u001b[0mloss\u001b[0m \u001b[0;34m=\u001b[0m \u001b[0mnn\u001b[0m\u001b[0;34m.\u001b[0m\u001b[0mCrossEntropyLoss\u001b[0m\u001b[0;34m(\u001b[0m\u001b[0;34m)\u001b[0m\u001b[0;34m(\u001b[0m\u001b[0mout_\u001b[0m\u001b[0;34m,\u001b[0m \u001b[0mlabel\u001b[0m\u001b[0;34m.\u001b[0m\u001b[0mcuda\u001b[0m\u001b[0;34m(\u001b[0m\u001b[0;34m)\u001b[0m\u001b[0;34m)\u001b[0m \u001b[0;31m# ((model_output.cuda() - (img / 255))**2).mean() + 0.1 * ((embedding.cuda())**2).mean() + 100 * ((all_hypo_params.cuda())**2).mean()\u001b[0m\u001b[0;34m\u001b[0m\u001b[0;34m\u001b[0m\u001b[0m\n\u001b[0m\u001b[1;32m     36\u001b[0m \u001b[0;34m\u001b[0m\u001b[0m\n\u001b[1;32m     37\u001b[0m       \u001b[0;32mif\u001b[0m \u001b[0;32mnot\u001b[0m \u001b[0mi\u001b[0m \u001b[0;34m%\u001b[0m \u001b[0;36m450\u001b[0m\u001b[0;34m:\u001b[0m\u001b[0;34m\u001b[0m\u001b[0;34m\u001b[0m\u001b[0m\n",
            "\u001b[0;31mKeyboardInterrupt\u001b[0m: "
          ]
        }
      ]
    },
    {
      "cell_type": "code",
      "metadata": {
        "colab": {
          "base_uri": "https://localhost:8080/",
          "height": 1000
        },
        "id": "Hzq4XX900_bA",
        "outputId": "79cb2da8-7550-47f4-fdd6-d635697d1f09"
      },
      "source": [
        "loader = DataLoader(MNISTSirenDataset(mnist_testset), batch_size=32, shuffle=True)\n",
        "total = 0\n",
        "correct = 0\n",
        "if True:\n",
        "  for i, (img, coords, label) in enumerate(loader):\n",
        "      \n",
        "      # model_input, ground_truth = coords# get_mgrid(28, 2), torch.Tensor(np.array(mnist_trainset[step % len(mnist_trainset)][0])).reshape((784, 1))\n",
        "      # model_input, ground_truth = model_input.cuda(), ground_truth.cuda()\n",
        "\n",
        "      with torch.no_grad():\n",
        "        img, coords = img.cuda(), coords.cuda()\n",
        "\n",
        "        out = net_2({'img_sparse': img.view((32, 1, 28, 28)).cuda(), 'coords': coords.cuda()})\n",
        "\n",
        "        model_output = out[\"model_out\"]\n",
        "        embedding = out[\"latent_vec\"]\n",
        "        hypo_params = out[\"hypo_params\"]\n",
        "\n",
        "        # W_param = create_parameter_tensor(hypo_params)\n",
        "\n",
        "      out_ = classifier(embedding.cuda())\n",
        "\n",
        "      total += 32\n",
        "      correct += (label.cuda() == out_.argmax(dim=1)).sum()\n",
        "\n",
        "      print(correct/total)"
      ],
      "execution_count": 54,
      "outputs": [
        {
          "output_type": "stream",
          "text": [
            "tensor(0.9375, device='cuda:0')\n",
            "tensor(0.9531, device='cuda:0')\n",
            "tensor(0.9688, device='cuda:0')\n",
            "tensor(0.9688, device='cuda:0')\n",
            "tensor(0.9625, device='cuda:0')\n",
            "tensor(0.9688, device='cuda:0')\n",
            "tensor(0.9598, device='cuda:0')\n",
            "tensor(0.9609, device='cuda:0')\n",
            "tensor(0.9618, device='cuda:0')\n",
            "tensor(0.9625, device='cuda:0')\n",
            "tensor(0.9517, device='cuda:0')\n",
            "tensor(0.9531, device='cuda:0')\n",
            "tensor(0.9567, device='cuda:0')\n",
            "tensor(0.9554, device='cuda:0')\n",
            "tensor(0.9542, device='cuda:0')\n",
            "tensor(0.9531, device='cuda:0')\n",
            "tensor(0.9540, device='cuda:0')\n",
            "tensor(0.9549, device='cuda:0')\n",
            "tensor(0.9523, device='cuda:0')\n",
            "tensor(0.9484, device='cuda:0')\n",
            "tensor(0.9494, device='cuda:0')\n",
            "tensor(0.9489, device='cuda:0')\n",
            "tensor(0.9511, device='cuda:0')\n",
            "tensor(0.9505, device='cuda:0')\n",
            "tensor(0.9500, device='cuda:0')\n",
            "tensor(0.9471, device='cuda:0')\n",
            "tensor(0.9468, device='cuda:0')\n",
            "tensor(0.9420, device='cuda:0')\n",
            "tensor(0.9418, device='cuda:0')\n",
            "tensor(0.9406, device='cuda:0')\n",
            "tensor(0.9395, device='cuda:0')\n",
            "tensor(0.9375, device='cuda:0')\n",
            "tensor(0.9356, device='cuda:0')\n",
            "tensor(0.9366, device='cuda:0')\n",
            "tensor(0.9348, device='cuda:0')\n",
            "tensor(0.9358, device='cuda:0')\n",
            "tensor(0.9350, device='cuda:0')\n",
            "tensor(0.9350, device='cuda:0')\n",
            "tensor(0.9335, device='cuda:0')\n",
            "tensor(0.9336, device='cuda:0')\n",
            "tensor(0.9337, device='cuda:0')\n",
            "tensor(0.9338, device='cuda:0')\n",
            "tensor(0.9339, device='cuda:0')\n",
            "tensor(0.9339, device='cuda:0')\n",
            "tensor(0.9333, device='cuda:0')\n",
            "tensor(0.9327, device='cuda:0')\n",
            "tensor(0.9342, device='cuda:0')\n",
            "tensor(0.9329, device='cuda:0')\n",
            "tensor(0.9343, device='cuda:0')\n",
            "tensor(0.9344, device='cuda:0')\n",
            "tensor(0.9350, device='cuda:0')\n",
            "tensor(0.9345, device='cuda:0')\n",
            "tensor(0.9357, device='cuda:0')\n",
            "tensor(0.9358, device='cuda:0')\n",
            "tensor(0.9352, device='cuda:0')\n",
            "tensor(0.9358, device='cuda:0')\n",
            "tensor(0.9353, device='cuda:0')\n",
            "tensor(0.9359, device='cuda:0')\n",
            "tensor(0.9349, device='cuda:0')\n",
            "tensor(0.9344, device='cuda:0')\n",
            "tensor(0.9344, device='cuda:0')\n",
            "tensor(0.9335, device='cuda:0')\n",
            "tensor(0.9335, device='cuda:0')\n",
            "tensor(0.9326, device='cuda:0')\n",
            "tensor(0.9327, device='cuda:0')\n",
            "tensor(0.9328, device='cuda:0')\n",
            "tensor(0.9333, device='cuda:0')\n",
            "tensor(0.9338, device='cuda:0')\n",
            "tensor(0.9348, device='cuda:0')\n",
            "tensor(0.9348, device='cuda:0')\n",
            "tensor(0.9357, device='cuda:0')\n",
            "tensor(0.9358, device='cuda:0')\n",
            "tensor(0.9358, device='cuda:0')\n",
            "tensor(0.9358, device='cuda:0')\n",
            "tensor(0.9358, device='cuda:0')\n",
            "tensor(0.9350, device='cuda:0')\n",
            "tensor(0.9351, device='cuda:0')\n",
            "tensor(0.9351, device='cuda:0')\n",
            "tensor(0.9355, device='cuda:0')\n",
            "tensor(0.9355, device='cuda:0')\n",
            "tensor(0.9356, device='cuda:0')\n",
            "tensor(0.9356, device='cuda:0')\n",
            "tensor(0.9360, device='cuda:0')\n",
            "tensor(0.9364, device='cuda:0')\n",
            "tensor(0.9364, device='cuda:0')\n",
            "tensor(0.9368, device='cuda:0')\n",
            "tensor(0.9364, device='cuda:0')\n",
            "tensor(0.9364, device='cuda:0')\n",
            "tensor(0.9361, device='cuda:0')\n",
            "tensor(0.9365, device='cuda:0')\n",
            "tensor(0.9361, device='cuda:0')\n",
            "tensor(0.9361, device='cuda:0')\n",
            "tensor(0.9362, device='cuda:0')\n",
            "tensor(0.9365, device='cuda:0')\n",
            "tensor(0.9368, device='cuda:0')\n",
            "tensor(0.9368, device='cuda:0')\n",
            "tensor(0.9375, device='cuda:0')\n",
            "tensor(0.9372, device='cuda:0')\n",
            "tensor(0.9378, device='cuda:0')\n",
            "tensor(0.9378, device='cuda:0')\n",
            "tensor(0.9375, device='cuda:0')\n",
            "tensor(0.9378, device='cuda:0')\n",
            "tensor(0.9381, device='cuda:0')\n",
            "tensor(0.9384, device='cuda:0')\n",
            "tensor(0.9381, device='cuda:0')\n",
            "tensor(0.9384, device='cuda:0')\n",
            "tensor(0.9378, device='cuda:0')\n",
            "tensor(0.9381, device='cuda:0')\n",
            "tensor(0.9378, device='cuda:0')\n",
            "tensor(0.9381, device='cuda:0')\n",
            "tensor(0.9378, device='cuda:0')\n",
            "tensor(0.9375, device='cuda:0')\n",
            "tensor(0.9378, device='cuda:0')\n",
            "tensor(0.9378, device='cuda:0')\n",
            "tensor(0.9380, device='cuda:0')\n",
            "tensor(0.9383, device='cuda:0')\n",
            "tensor(0.9386, device='cuda:0')\n",
            "tensor(0.9386, device='cuda:0')\n",
            "tensor(0.9380, device='cuda:0')\n",
            "tensor(0.9380, device='cuda:0')\n",
            "tensor(0.9383, device='cuda:0')\n",
            "tensor(0.9388, device='cuda:0')\n",
            "tensor(0.9388, device='cuda:0')\n",
            "tensor(0.9383, device='cuda:0')\n",
            "tensor(0.9378, device='cuda:0')\n",
            "tensor(0.9370, device='cuda:0')\n",
            "tensor(0.9370, device='cuda:0')\n",
            "tensor(0.9373, device='cuda:0')\n",
            "tensor(0.9375, device='cuda:0')\n",
            "tensor(0.9377, device='cuda:0')\n",
            "tensor(0.9375, device='cuda:0')\n",
            "tensor(0.9375, device='cuda:0')\n",
            "tensor(0.9375, device='cuda:0')\n",
            "tensor(0.9377, device='cuda:0')\n",
            "tensor(0.9375, device='cuda:0')\n",
            "tensor(0.9377, device='cuda:0')\n",
            "tensor(0.9380, device='cuda:0')\n",
            "tensor(0.9380, device='cuda:0')\n",
            "tensor(0.9377, device='cuda:0')\n",
            "tensor(0.9371, device='cuda:0')\n",
            "tensor(0.9368, device='cuda:0')\n",
            "tensor(0.9366, device='cuda:0')\n",
            "tensor(0.9368, device='cuda:0')\n",
            "tensor(0.9368, device='cuda:0')\n",
            "tensor(0.9364, device='cuda:0')\n",
            "tensor(0.9366, device='cuda:0')\n",
            "tensor(0.9366, device='cuda:0')\n",
            "tensor(0.9367, device='cuda:0')\n",
            "tensor(0.9367, device='cuda:0')\n",
            "tensor(0.9365, device='cuda:0')\n",
            "tensor(0.9365, device='cuda:0')\n",
            "tensor(0.9367, device='cuda:0')\n",
            "tensor(0.9365, device='cuda:0')\n",
            "tensor(0.9361, device='cuda:0')\n",
            "tensor(0.9361, device='cuda:0')\n",
            "tensor(0.9361, device='cuda:0')\n",
            "tensor(0.9365, device='cuda:0')\n",
            "tensor(0.9365, device='cuda:0')\n",
            "tensor(0.9365, device='cuda:0')\n",
            "tensor(0.9367, device='cuda:0')\n",
            "tensor(0.9369, device='cuda:0')\n",
            "tensor(0.9367, device='cuda:0')\n",
            "tensor(0.9365, device='cuda:0')\n",
            "tensor(0.9364, device='cuda:0')\n",
            "tensor(0.9364, device='cuda:0')\n",
            "tensor(0.9364, device='cuda:0')\n",
            "tensor(0.9366, device='cuda:0')\n",
            "tensor(0.9368, device='cuda:0')\n",
            "tensor(0.9364, device='cuda:0')\n",
            "tensor(0.9366, device='cuda:0')\n",
            "tensor(0.9366, device='cuda:0')\n",
            "tensor(0.9364, device='cuda:0')\n",
            "tensor(0.9368, device='cuda:0')\n",
            "tensor(0.9366, device='cuda:0')\n",
            "tensor(0.9364, device='cuda:0')\n",
            "tensor(0.9366, device='cuda:0')\n",
            "tensor(0.9368, device='cuda:0')\n",
            "tensor(0.9368, device='cuda:0')\n",
            "tensor(0.9372, device='cuda:0')\n",
            "tensor(0.9366, device='cuda:0')\n",
            "tensor(0.9365, device='cuda:0')\n",
            "tensor(0.9365, device='cuda:0')\n",
            "tensor(0.9363, device='cuda:0')\n",
            "tensor(0.9363, device='cuda:0')\n",
            "tensor(0.9367, device='cuda:0')\n",
            "tensor(0.9368, device='cuda:0')\n",
            "tensor(0.9363, device='cuda:0')\n",
            "tensor(0.9363, device='cuda:0')\n",
            "tensor(0.9358, device='cuda:0')\n",
            "tensor(0.9355, device='cuda:0')\n",
            "tensor(0.9357, device='cuda:0')\n",
            "tensor(0.9355, device='cuda:0')\n",
            "tensor(0.9352, device='cuda:0')\n",
            "tensor(0.9351, device='cuda:0')\n",
            "tensor(0.9353, device='cuda:0')\n",
            "tensor(0.9353, device='cuda:0')\n",
            "tensor(0.9350, device='cuda:0')\n",
            "tensor(0.9350, device='cuda:0')\n",
            "tensor(0.9350, device='cuda:0')\n",
            "tensor(0.9352, device='cuda:0')\n",
            "tensor(0.9352, device='cuda:0')\n",
            "tensor(0.9352, device='cuda:0')\n",
            "tensor(0.9350, device='cuda:0')\n",
            "tensor(0.9346, device='cuda:0')\n",
            "tensor(0.9340, device='cuda:0')\n",
            "tensor(0.9343, device='cuda:0')\n",
            "tensor(0.9345, device='cuda:0')\n",
            "tensor(0.9346, device='cuda:0')\n",
            "tensor(0.9347, device='cuda:0')\n",
            "tensor(0.9348, device='cuda:0')\n",
            "tensor(0.9348, device='cuda:0')\n",
            "tensor(0.9347, device='cuda:0')\n",
            "tensor(0.9347, device='cuda:0')\n",
            "tensor(0.9349, device='cuda:0')\n",
            "tensor(0.9346, device='cuda:0')\n",
            "tensor(0.9348, device='cuda:0')\n",
            "tensor(0.9346, device='cuda:0')\n",
            "tensor(0.9349, device='cuda:0')\n",
            "tensor(0.9352, device='cuda:0')\n",
            "tensor(0.9352, device='cuda:0')\n",
            "tensor(0.9352, device='cuda:0')\n",
            "tensor(0.9351, device='cuda:0')\n",
            "tensor(0.9354, device='cuda:0')\n",
            "tensor(0.9355, device='cuda:0')\n",
            "tensor(0.9356, device='cuda:0')\n",
            "tensor(0.9354, device='cuda:0')\n",
            "tensor(0.9357, device='cuda:0')\n",
            "tensor(0.9359, device='cuda:0')\n",
            "tensor(0.9359, device='cuda:0')\n",
            "tensor(0.9360, device='cuda:0')\n",
            "tensor(0.9361, device='cuda:0')\n",
            "tensor(0.9363, device='cuda:0')\n",
            "tensor(0.9360, device='cuda:0')\n",
            "tensor(0.9359, device='cuda:0')\n",
            "tensor(0.9360, device='cuda:0')\n",
            "tensor(0.9362, device='cuda:0')\n",
            "tensor(0.9360, device='cuda:0')\n",
            "tensor(0.9359, device='cuda:0')\n",
            "tensor(0.9361, device='cuda:0')\n",
            "tensor(0.9361, device='cuda:0')\n",
            "tensor(0.9362, device='cuda:0')\n",
            "tensor(0.9362, device='cuda:0')\n",
            "tensor(0.9363, device='cuda:0')\n",
            "tensor(0.9361, device='cuda:0')\n"
          ],
          "name": "stdout"
        },
        {
          "output_type": "error",
          "ename": "KeyboardInterrupt",
          "evalue": "ignored",
          "traceback": [
            "\u001b[0;31m---------------------------------------------------------------------------\u001b[0m",
            "\u001b[0;31mKeyboardInterrupt\u001b[0m                         Traceback (most recent call last)",
            "\u001b[0;32m<ipython-input-54-f5eb0a79932a>\u001b[0m in \u001b[0;36m<module>\u001b[0;34m()\u001b[0m\n\u001b[1;32m     22\u001b[0m \u001b[0;34m\u001b[0m\u001b[0m\n\u001b[1;32m     23\u001b[0m       \u001b[0mtotal\u001b[0m \u001b[0;34m+=\u001b[0m \u001b[0;36m32\u001b[0m\u001b[0;34m\u001b[0m\u001b[0;34m\u001b[0m\u001b[0m\n\u001b[0;32m---> 24\u001b[0;31m       \u001b[0mcorrect\u001b[0m \u001b[0;34m+=\u001b[0m \u001b[0;34m(\u001b[0m\u001b[0mlabel\u001b[0m\u001b[0;34m.\u001b[0m\u001b[0mcuda\u001b[0m\u001b[0;34m(\u001b[0m\u001b[0;34m)\u001b[0m \u001b[0;34m==\u001b[0m \u001b[0mout_\u001b[0m\u001b[0;34m.\u001b[0m\u001b[0margmax\u001b[0m\u001b[0;34m(\u001b[0m\u001b[0mdim\u001b[0m\u001b[0;34m=\u001b[0m\u001b[0;36m1\u001b[0m\u001b[0;34m)\u001b[0m\u001b[0;34m)\u001b[0m\u001b[0;34m.\u001b[0m\u001b[0msum\u001b[0m\u001b[0;34m(\u001b[0m\u001b[0;34m)\u001b[0m\u001b[0;34m\u001b[0m\u001b[0;34m\u001b[0m\u001b[0m\n\u001b[0m\u001b[1;32m     25\u001b[0m \u001b[0;34m\u001b[0m\u001b[0m\n\u001b[1;32m     26\u001b[0m       \u001b[0mprint\u001b[0m\u001b[0;34m(\u001b[0m\u001b[0mcorrect\u001b[0m\u001b[0;34m/\u001b[0m\u001b[0mtotal\u001b[0m\u001b[0;34m)\u001b[0m\u001b[0;34m\u001b[0m\u001b[0;34m\u001b[0m\u001b[0m\n",
            "\u001b[0;31mKeyboardInterrupt\u001b[0m: "
          ]
        }
      ]
    },
    {
      "cell_type": "markdown",
      "metadata": {
        "id": "fvQThhipn49e"
      },
      "source": [
        "# CNN Classifier from Weights"
      ]
    },
    {
      "cell_type": "code",
      "metadata": {
        "colab": {
          "base_uri": "https://localhost:8080/",
          "height": 453
        },
        "id": "xB1zscRyn7F5",
        "outputId": "ad9c062a-690e-477d-f523-8542977c85c1"
      },
      "source": [
        "loader = DataLoader(MNISTSirenDataset(mnist_trainset), batch_size=32, shuffle=True)\n",
        "\n",
        "# classifier = MNISTClassifierNet().cuda()\n",
        "\n",
        "total_steps = 1000000 # Since the whole image is our dataset, this just means 500 gradient descent steps.\n",
        "steps_til_summary = 50\n",
        "batch_size = 8\n",
        "\n",
        "optim = torch.optim.Adam(lr=1e-3, params=[\n",
        "                            {'params': classifier.parameters()},\n",
        "                            # {'params': net.encoder.parameters()}\n",
        "                        ])\n",
        "\n",
        "for e in range(100):\n",
        "  for i, (img, coords, label) in enumerate(loader):\n",
        "      \n",
        "      # model_input, ground_truth = coords# get_mgrid(28, 2), torch.Tensor(np.array(mnist_trainset[step % len(mnist_trainset)][0])).reshape((784, 1))\n",
        "      # model_input, ground_truth = model_input.cuda(), ground_truth.cuda()\n",
        "\n",
        "      with torch.no_grad():\n",
        "        img, coords = img.cuda(), coords.cuda()\n",
        "\n",
        "        out = net_2({'img_sparse': img.view((32, 1, 28, 28)).cuda(), 'coords': coords.cuda()})\n",
        "\n",
        "        model_output = out[\"model_out\"]\n",
        "        embedding = out[\"latent_vec\"]\n",
        "        hypo_params = out[\"hypo_params\"]\n",
        "\n",
        "        W_param = create_parameter_tensor(hypo_params)\n",
        "\n",
        "      out_ = classifier(W_param.cuda())\n",
        "\n",
        "      # all_hypo_params = torch.cat([x.view(-1) for x in list(hypo_params.values())])\n",
        "\n",
        "      loss = nn.CrossEntropyLoss()(out_, label.cuda()) # ((model_output.cuda() - (img / 255))**2).mean() + 0.1 * ((embedding.cuda())**2).mean() + 100 * ((all_hypo_params.cuda())**2).mean()\n",
        "      \n",
        "      if not i % 450:\n",
        "          print(\"Step %d, Total loss %0.6f\" % (i, loss))\n",
        "\n",
        "          # fig, axes = plt.subplots(1,3, figsize=(18,6))\n",
        "          # axes[0].imshow((model_output[0]).cpu().view(28,28).detach().numpy())\n",
        "          # axes[1].imshow((img / 255)[0].cpu().view(28,28).detach().numpy())\n",
        "          # plt.show()\n",
        "\n",
        "      optim.zero_grad()\n",
        "      loss.backward()\n",
        "      optim.step()"
      ],
      "execution_count": 72,
      "outputs": [
        {
          "output_type": "stream",
          "text": [
            "Step 0, Total loss 0.097079\n",
            "Step 450, Total loss 0.121823\n",
            "Step 900, Total loss 0.042763\n",
            "Step 1350, Total loss 0.027974\n",
            "Step 1800, Total loss 0.239440\n",
            "Step 0, Total loss 0.158993\n",
            "Step 450, Total loss 0.008614\n",
            "Step 900, Total loss 0.146036\n",
            "Step 1350, Total loss 0.053205\n",
            "Step 1800, Total loss 0.234700\n",
            "Step 0, Total loss 0.307938\n",
            "Step 450, Total loss 0.044994\n"
          ],
          "name": "stdout"
        },
        {
          "output_type": "error",
          "ename": "KeyboardInterrupt",
          "evalue": "ignored",
          "traceback": [
            "\u001b[0;31m---------------------------------------------------------------------------\u001b[0m",
            "\u001b[0;31mKeyboardInterrupt\u001b[0m                         Traceback (most recent call last)",
            "\u001b[0;32m<ipython-input-72-b5987ecdd03c>\u001b[0m in \u001b[0;36m<module>\u001b[0;34m()\u001b[0m\n\u001b[1;32m     33\u001b[0m       \u001b[0;31m# all_hypo_params = torch.cat([x.view(-1) for x in list(hypo_params.values())])\u001b[0m\u001b[0;34m\u001b[0m\u001b[0;34m\u001b[0m\u001b[0;34m\u001b[0m\u001b[0m\n\u001b[1;32m     34\u001b[0m \u001b[0;34m\u001b[0m\u001b[0m\n\u001b[0;32m---> 35\u001b[0;31m       \u001b[0mloss\u001b[0m \u001b[0;34m=\u001b[0m \u001b[0mnn\u001b[0m\u001b[0;34m.\u001b[0m\u001b[0mCrossEntropyLoss\u001b[0m\u001b[0;34m(\u001b[0m\u001b[0;34m)\u001b[0m\u001b[0;34m(\u001b[0m\u001b[0mout_\u001b[0m\u001b[0;34m,\u001b[0m \u001b[0mlabel\u001b[0m\u001b[0;34m.\u001b[0m\u001b[0mcuda\u001b[0m\u001b[0;34m(\u001b[0m\u001b[0;34m)\u001b[0m\u001b[0;34m)\u001b[0m \u001b[0;31m# ((model_output.cuda() - (img / 255))**2).mean() + 0.1 * ((embedding.cuda())**2).mean() + 100 * ((all_hypo_params.cuda())**2).mean()\u001b[0m\u001b[0;34m\u001b[0m\u001b[0;34m\u001b[0m\u001b[0m\n\u001b[0m\u001b[1;32m     36\u001b[0m \u001b[0;34m\u001b[0m\u001b[0m\n\u001b[1;32m     37\u001b[0m       \u001b[0;32mif\u001b[0m \u001b[0;32mnot\u001b[0m \u001b[0mi\u001b[0m \u001b[0;34m%\u001b[0m \u001b[0;36m450\u001b[0m\u001b[0;34m:\u001b[0m\u001b[0;34m\u001b[0m\u001b[0;34m\u001b[0m\u001b[0m\n",
            "\u001b[0;31mKeyboardInterrupt\u001b[0m: "
          ]
        }
      ]
    },
    {
      "cell_type": "code",
      "metadata": {
        "colab": {
          "base_uri": "https://localhost:8080/",
          "height": 1000
        },
        "id": "Lpif2z1an7F5",
        "outputId": "b63ed19d-40e3-4de6-c656-5e6b890998f5"
      },
      "source": [
        "loader = DataLoader(MNISTSirenDataset(mnist_testset), batch_size=32, shuffle=True)\n",
        "total = 0\n",
        "correct = 0\n",
        "if True:\n",
        "  for i, (img, coords, label) in enumerate(loader):\n",
        "      \n",
        "      # model_input, ground_truth = coords# get_mgrid(28, 2), torch.Tensor(np.array(mnist_trainset[step % len(mnist_trainset)][0])).reshape((784, 1))\n",
        "      # model_input, ground_truth = model_input.cuda(), ground_truth.cuda()\n",
        "\n",
        "      with torch.no_grad():\n",
        "        img, coords = img.cuda(), coords.cuda()\n",
        "\n",
        "        out = net_2({'img_sparse': img.view((32, 1, 28, 28)).cuda(), 'coords': coords.cuda()})\n",
        "\n",
        "        model_output = out[\"model_out\"]\n",
        "        embedding = out[\"latent_vec\"]\n",
        "        hypo_params = out[\"hypo_params\"]\n",
        "\n",
        "        W_param = create_parameter_tensor(hypo_params)\n",
        "\n",
        "      out_ = classifier(W_param.cuda())\n",
        "\n",
        "      total += 32\n",
        "      correct += (label.cuda() == out_.argmax(dim=1)).sum()\n",
        "\n",
        "      print(correct/total)"
      ],
      "execution_count": 73,
      "outputs": [
        {
          "output_type": "stream",
          "text": [
            "tensor(0.9688, device='cuda:0')\n",
            "tensor(0.9688, device='cuda:0')\n",
            "tensor(0.9688, device='cuda:0')\n",
            "tensor(0.9453, device='cuda:0')\n",
            "tensor(0.9438, device='cuda:0')\n",
            "tensor(0.9531, device='cuda:0')\n",
            "tensor(0.9598, device='cuda:0')\n",
            "tensor(0.9648, device='cuda:0')\n",
            "tensor(0.9653, device='cuda:0')\n",
            "tensor(0.9688, device='cuda:0')\n",
            "tensor(0.9688, device='cuda:0')\n",
            "tensor(0.9688, device='cuda:0')\n",
            "tensor(0.9688, device='cuda:0')\n",
            "tensor(0.9710, device='cuda:0')\n",
            "tensor(0.9729, device='cuda:0')\n",
            "tensor(0.9727, device='cuda:0')\n",
            "tensor(0.9724, device='cuda:0')\n",
            "tensor(0.9705, device='cuda:0')\n",
            "tensor(0.9704, device='cuda:0')\n",
            "tensor(0.9672, device='cuda:0')\n",
            "tensor(0.9688, device='cuda:0')\n",
            "tensor(0.9702, device='cuda:0')\n",
            "tensor(0.9701, device='cuda:0')\n",
            "tensor(0.9701, device='cuda:0')\n",
            "tensor(0.9712, device='cuda:0')\n",
            "tensor(0.9700, device='cuda:0')\n",
            "tensor(0.9711, device='cuda:0')\n",
            "tensor(0.9721, device='cuda:0')\n",
            "tensor(0.9720, device='cuda:0')\n",
            "tensor(0.9719, device='cuda:0')\n",
            "tensor(0.9728, device='cuda:0')\n",
            "tensor(0.9717, device='cuda:0')\n",
            "tensor(0.9716, device='cuda:0')\n",
            "tensor(0.9724, device='cuda:0')\n",
            "tensor(0.9732, device='cuda:0')\n",
            "tensor(0.9722, device='cuda:0')\n",
            "tensor(0.9713, device='cuda:0')\n",
            "tensor(0.9704, device='cuda:0')\n",
            "tensor(0.9712, device='cuda:0')\n",
            "tensor(0.9711, device='cuda:0')\n",
            "tensor(0.9710, device='cuda:0')\n",
            "tensor(0.9710, device='cuda:0')\n",
            "tensor(0.9717, device='cuda:0')\n",
            "tensor(0.9716, device='cuda:0')\n",
            "tensor(0.9722, device='cuda:0')\n",
            "tensor(0.9715, device='cuda:0')\n",
            "tensor(0.9721, device='cuda:0')\n",
            "tensor(0.9720, device='cuda:0')\n",
            "tensor(0.9726, device='cuda:0')\n",
            "tensor(0.9719, device='cuda:0')\n",
            "tensor(0.9706, device='cuda:0')\n",
            "tensor(0.9712, device='cuda:0')\n",
            "tensor(0.9717, device='cuda:0')\n",
            "tensor(0.9722, device='cuda:0')\n",
            "tensor(0.9727, device='cuda:0')\n",
            "tensor(0.9721, device='cuda:0')\n",
            "tensor(0.9720, device='cuda:0')\n",
            "tensor(0.9720, device='cuda:0')\n",
            "tensor(0.9725, device='cuda:0')\n",
            "tensor(0.9719, device='cuda:0')\n",
            "tensor(0.9723, device='cuda:0')\n",
            "tensor(0.9713, device='cuda:0')\n",
            "tensor(0.9702, device='cuda:0')\n",
            "tensor(0.9707, device='cuda:0')\n",
            "tensor(0.9702, device='cuda:0')\n",
            "tensor(0.9702, device='cuda:0')\n",
            "tensor(0.9701, device='cuda:0')\n",
            "tensor(0.9692, device='cuda:0')\n",
            "tensor(0.9697, device='cuda:0')\n",
            "tensor(0.9696, device='cuda:0')\n",
            "tensor(0.9696, device='cuda:0')\n",
            "tensor(0.9701, device='cuda:0')\n",
            "tensor(0.9696, device='cuda:0')\n",
            "tensor(0.9696, device='cuda:0')\n",
            "tensor(0.9700, device='cuda:0')\n",
            "tensor(0.9688, device='cuda:0')\n",
            "tensor(0.9692, device='cuda:0')\n",
            "tensor(0.9683, device='cuda:0')\n",
            "tensor(0.9688, device='cuda:0')\n",
            "tensor(0.9691, device='cuda:0')\n",
            "tensor(0.9695, device='cuda:0')\n",
            "tensor(0.9695, device='cuda:0')\n",
            "tensor(0.9699, device='cuda:0')\n",
            "tensor(0.9702, device='cuda:0')\n",
            "tensor(0.9702, device='cuda:0')\n",
            "tensor(0.9695, device='cuda:0')\n",
            "tensor(0.9695, device='cuda:0')\n",
            "tensor(0.9698, device='cuda:0')\n",
            "tensor(0.9698, device='cuda:0')\n",
            "tensor(0.9701, device='cuda:0')\n",
            "tensor(0.9701, device='cuda:0')\n",
            "tensor(0.9698, device='cuda:0')\n",
            "tensor(0.9701, device='cuda:0')\n",
            "tensor(0.9697, device='cuda:0')\n",
            "tensor(0.9697, device='cuda:0')\n",
            "tensor(0.9701, device='cuda:0')\n",
            "tensor(0.9704, device='cuda:0')\n",
            "tensor(0.9703, device='cuda:0')\n",
            "tensor(0.9700, device='cuda:0')\n",
            "tensor(0.9703, device='cuda:0')\n",
            "tensor(0.9706, device='cuda:0')\n",
            "tensor(0.9706, device='cuda:0')\n",
            "tensor(0.9706, device='cuda:0')\n",
            "tensor(0.9706, device='cuda:0')\n",
            "tensor(0.9705, device='cuda:0')\n",
            "tensor(0.9708, device='cuda:0')\n",
            "tensor(0.9705, device='cuda:0')\n",
            "tensor(0.9705, device='cuda:0')\n"
          ],
          "name": "stdout"
        },
        {
          "output_type": "error",
          "ename": "KeyboardInterrupt",
          "evalue": "ignored",
          "traceback": [
            "\u001b[0;31m---------------------------------------------------------------------------\u001b[0m",
            "\u001b[0;31mKeyboardInterrupt\u001b[0m                         Traceback (most recent call last)",
            "\u001b[0;32m<ipython-input-73-930af7c24f3b>\u001b[0m in \u001b[0;36m<module>\u001b[0;34m()\u001b[0m\n\u001b[1;32m     22\u001b[0m \u001b[0;34m\u001b[0m\u001b[0m\n\u001b[1;32m     23\u001b[0m       \u001b[0mtotal\u001b[0m \u001b[0;34m+=\u001b[0m \u001b[0;36m32\u001b[0m\u001b[0;34m\u001b[0m\u001b[0;34m\u001b[0m\u001b[0m\n\u001b[0;32m---> 24\u001b[0;31m       \u001b[0mcorrect\u001b[0m \u001b[0;34m+=\u001b[0m \u001b[0;34m(\u001b[0m\u001b[0mlabel\u001b[0m\u001b[0;34m.\u001b[0m\u001b[0mcuda\u001b[0m\u001b[0;34m(\u001b[0m\u001b[0;34m)\u001b[0m \u001b[0;34m==\u001b[0m \u001b[0mout_\u001b[0m\u001b[0;34m.\u001b[0m\u001b[0margmax\u001b[0m\u001b[0;34m(\u001b[0m\u001b[0mdim\u001b[0m\u001b[0;34m=\u001b[0m\u001b[0;36m1\u001b[0m\u001b[0;34m)\u001b[0m\u001b[0;34m)\u001b[0m\u001b[0;34m.\u001b[0m\u001b[0msum\u001b[0m\u001b[0;34m(\u001b[0m\u001b[0;34m)\u001b[0m\u001b[0;34m\u001b[0m\u001b[0;34m\u001b[0m\u001b[0m\n\u001b[0m\u001b[1;32m     25\u001b[0m \u001b[0;34m\u001b[0m\u001b[0m\n\u001b[1;32m     26\u001b[0m       \u001b[0mprint\u001b[0m\u001b[0;34m(\u001b[0m\u001b[0mcorrect\u001b[0m\u001b[0;34m/\u001b[0m\u001b[0mtotal\u001b[0m\u001b[0;34m)\u001b[0m\u001b[0;34m\u001b[0m\u001b[0;34m\u001b[0m\u001b[0m\n",
            "\u001b[0;31mKeyboardInterrupt\u001b[0m: "
          ]
        }
      ]
    },
    {
      "cell_type": "code",
      "metadata": {
        "id": "5c0Dv3yi3lOO"
      },
      "source": [
        "torch.save(classifier, \"mnist_siren_classifier_from_weights\")"
      ],
      "execution_count": 74,
      "outputs": []
    },
    {
      "cell_type": "code",
      "metadata": {
        "colab": {
          "base_uri": "https://localhost:8080/",
          "height": 249
        },
        "id": "dSmJOUcwV2Ea",
        "outputId": "578c8341-d9aa-4b96-e354-d473fffbd970"
      },
      "source": [
        "total_steps = 1000000 # Since the whole image is our dataset, this just means 500 gradient descent steps.\n",
        "steps_til_summary = 50\n",
        "batch_size = 8\n",
        "\n",
        "optim = torch.optim.Adam(lr=5e-5, params=[\n",
        "                            {'params': net_2.hyper_net.parameters()},\n",
        "                            {'params': net_2.encoder.parameters()}\n",
        "                        ])\n",
        "\n",
        "for e in range(100):\n",
        "  for i, (img, coords) in enumerate(loader):\n",
        "      \n",
        "      # model_input, ground_truth = coords# get_mgrid(28, 2), torch.Tensor(np.array(mnist_trainset[step % len(mnist_trainset)][0])).reshape((784, 1))\n",
        "      # model_input, ground_truth = model_input.cuda(), ground_truth.cuda()\n",
        "      img, coords = img.cuda(), coords.cuda()\n",
        "\n",
        "      out = net_2({'img_sparse': img.view((32, 1, 28, 28)).cuda(), 'coords': coords.cuda()})\n",
        "\n",
        "      model_output = out[\"model_out\"]\n",
        "      embedding = out[\"latent_vec\"]\n",
        "      hypo_params = out[\"hypo_params\"]\n",
        "\n",
        "      all_hypo_params = torch.cat([x.view(-1) for x in list(hypo_params.values())])\n",
        "\n",
        "      loss = ((model_output.cuda() - (img / 255))**2).mean() + 0.1 * ((embedding.cuda())**2).mean() + 100 * ((all_hypo_params.cuda())**2).mean()\n",
        "      \n",
        "      if not i % 250:\n",
        "          print(\"Step %d, Total loss %0.6f\" % (i, loss))\n",
        "\n",
        "          print(torch.max(model_output))\n",
        "          print(torch.max(img))\n",
        "\n",
        "          fig, axes = plt.subplots(1,3, figsize=(18,6))\n",
        "          axes[0].imshow((model_output[0]).cpu().view(28,28).detach().numpy())\n",
        "          axes[1].imshow((img / 255)[0].cpu().view(28,28).detach().numpy())\n",
        "          plt.show()\n",
        "\n",
        "      optim.zero_grad()\n",
        "      loss.backward()\n",
        "      optim.step()"
      ],
      "execution_count": null,
      "outputs": [
        {
          "output_type": "error",
          "ename": "ValueError",
          "evalue": "ignored",
          "traceback": [
            "\u001b[0;31m---------------------------------------------------------------------------\u001b[0m",
            "\u001b[0;31mValueError\u001b[0m                                Traceback (most recent call last)",
            "\u001b[0;32m<ipython-input-158-dac53e46b0ca>\u001b[0m in \u001b[0;36m<module>\u001b[0;34m()\u001b[0m\n\u001b[1;32m      9\u001b[0m \u001b[0;34m\u001b[0m\u001b[0m\n\u001b[1;32m     10\u001b[0m \u001b[0;32mfor\u001b[0m \u001b[0me\u001b[0m \u001b[0;32min\u001b[0m \u001b[0mrange\u001b[0m\u001b[0;34m(\u001b[0m\u001b[0;36m100\u001b[0m\u001b[0;34m)\u001b[0m\u001b[0;34m:\u001b[0m\u001b[0;34m\u001b[0m\u001b[0;34m\u001b[0m\u001b[0m\n\u001b[0;32m---> 11\u001b[0;31m   \u001b[0;32mfor\u001b[0m \u001b[0mi\u001b[0m\u001b[0;34m,\u001b[0m \u001b[0;34m(\u001b[0m\u001b[0mimg\u001b[0m\u001b[0;34m,\u001b[0m \u001b[0mcoords\u001b[0m\u001b[0;34m)\u001b[0m \u001b[0;32min\u001b[0m \u001b[0menumerate\u001b[0m\u001b[0;34m(\u001b[0m\u001b[0mloader\u001b[0m\u001b[0;34m)\u001b[0m\u001b[0;34m:\u001b[0m\u001b[0;34m\u001b[0m\u001b[0;34m\u001b[0m\u001b[0m\n\u001b[0m\u001b[1;32m     12\u001b[0m \u001b[0;34m\u001b[0m\u001b[0m\n\u001b[1;32m     13\u001b[0m       \u001b[0;31m# model_input, ground_truth = coords# get_mgrid(28, 2), torch.Tensor(np.array(mnist_trainset[step % len(mnist_trainset)][0])).reshape((784, 1))\u001b[0m\u001b[0;34m\u001b[0m\u001b[0;34m\u001b[0m\u001b[0;34m\u001b[0m\u001b[0m\n",
            "\u001b[0;31mValueError\u001b[0m: too many values to unpack (expected 2)"
          ]
        }
      ]
    },
    {
      "cell_type": "code",
      "metadata": {
        "colab": {
          "base_uri": "https://localhost:8080/"
        },
        "id": "axqJs3LJl0o-",
        "outputId": "17f2c346-cb80-4db4-ff91-beb8aed33ba9"
      },
      "source": [
        "from google.colab import drive\n",
        "drive.mount('/content/drive')"
      ],
      "execution_count": 37,
      "outputs": [
        {
          "output_type": "stream",
          "text": [
            "Mounted at /content/drive\n"
          ],
          "name": "stdout"
        }
      ]
    },
    {
      "cell_type": "code",
      "metadata": {
        "colab": {
          "base_uri": "https://localhost:8080/"
        },
        "id": "gZGgOlLpU6So",
        "outputId": "0c6b150e-94ad-45c5-f923-fe6125920b96"
      },
      "source": [
        "net_2 = ConvolutionalNeuralProcessImplicit2DHypernet(1, 1, image_resolution=28)\n",
        "net_2.cuda()\n",
        "net_2.load_state_dict(torch.load(\"/content/drive/My Drive/mnist_siren\"))"
      ],
      "execution_count": 69,
      "outputs": [
        {
          "output_type": "execute_result",
          "data": {
            "text/plain": [
              "<All keys matched successfully>"
            ]
          },
          "metadata": {
            "tags": []
          },
          "execution_count": 69
        }
      ]
    },
    {
      "cell_type": "code",
      "metadata": {
        "colab": {
          "base_uri": "https://localhost:8080/",
          "height": 232
        },
        "id": "WzB-fpGAV6zo",
        "outputId": "844629e2-daba-4175-e6d1-9ce396592f95"
      },
      "source": [
        "loader = DataLoader(MNISTSirenDataset(mnist_testset, upsample=8), batch_size=1, shuffle=True)\n",
        "for i, (img, coords, label) in enumerate(loader):\n",
        "  img, coords = img.cuda(), coords.cuda()\n",
        "  img_ = img.view((1, 1, 28, 28)).cuda()\n",
        "  # img_[:, :, 5:9, 15:20] = img.mean() # * torch.randn(4, 5).cuda()\n",
        "  # img_ = torch.clip(img_, 0, 255)\n",
        "  # print(img.max())\n",
        "  # img += 5 * torch.randn_like(img)\n",
        "  out = net_2({'img_sparse': img.view((1, 1, 28, 28)).cuda(), 'coords': coords.cuda()})\n",
        "\n",
        "  model_output = out[\"model_out\"]\n",
        "  embedding = out[\"latent_vec\"]\n",
        "  hypo_params = out[\"hypo_params\"]\n",
        "\n",
        "  print(hypo_params[\"net.2.0.bias\"].shape)\n",
        "\n",
        "  fig, axes = plt.subplots(1,3, figsize=(18,6))\n",
        "  axes[0].imshow((model_output[0]).cpu().view(28*8,28*8).detach().numpy())\n",
        "  axes[1].imshow((img / 255)[0].cpu().view(28,28).detach().numpy())\n",
        "  plt.show()\n",
        "\n",
        "  break"
      ],
      "execution_count": null,
      "outputs": [
        {
          "output_type": "error",
          "ename": "NameError",
          "evalue": "ignored",
          "traceback": [
            "\u001b[0;31m---------------------------------------------------------------------------\u001b[0m",
            "\u001b[0;31mNameError\u001b[0m                                 Traceback (most recent call last)",
            "\u001b[0;32m<ipython-input-73-bfefb9f7f781>\u001b[0m in \u001b[0;36m<module>\u001b[0;34m()\u001b[0m\n\u001b[1;32m      7\u001b[0m   \u001b[0;31m# print(img.max())\u001b[0m\u001b[0;34m\u001b[0m\u001b[0;34m\u001b[0m\u001b[0;34m\u001b[0m\u001b[0m\n\u001b[1;32m      8\u001b[0m   \u001b[0;31m# img += 5 * torch.randn_like(img)\u001b[0m\u001b[0;34m\u001b[0m\u001b[0;34m\u001b[0m\u001b[0;34m\u001b[0m\u001b[0m\n\u001b[0;32m----> 9\u001b[0;31m   \u001b[0mout\u001b[0m \u001b[0;34m=\u001b[0m \u001b[0mnet_2\u001b[0m\u001b[0;34m(\u001b[0m\u001b[0;34m{\u001b[0m\u001b[0;34m'img_sparse'\u001b[0m\u001b[0;34m:\u001b[0m \u001b[0mimg\u001b[0m\u001b[0;34m.\u001b[0m\u001b[0mview\u001b[0m\u001b[0;34m(\u001b[0m\u001b[0;34m(\u001b[0m\u001b[0;36m1\u001b[0m\u001b[0;34m,\u001b[0m \u001b[0;36m1\u001b[0m\u001b[0;34m,\u001b[0m \u001b[0;36m28\u001b[0m\u001b[0;34m,\u001b[0m \u001b[0;36m28\u001b[0m\u001b[0;34m)\u001b[0m\u001b[0;34m)\u001b[0m\u001b[0;34m.\u001b[0m\u001b[0mcuda\u001b[0m\u001b[0;34m(\u001b[0m\u001b[0;34m)\u001b[0m\u001b[0;34m,\u001b[0m \u001b[0;34m'coords'\u001b[0m\u001b[0;34m:\u001b[0m \u001b[0mcoords\u001b[0m\u001b[0;34m.\u001b[0m\u001b[0mcuda\u001b[0m\u001b[0;34m(\u001b[0m\u001b[0;34m)\u001b[0m\u001b[0;34m}\u001b[0m\u001b[0;34m)\u001b[0m\u001b[0;34m\u001b[0m\u001b[0;34m\u001b[0m\u001b[0m\n\u001b[0m\u001b[1;32m     10\u001b[0m \u001b[0;34m\u001b[0m\u001b[0m\n\u001b[1;32m     11\u001b[0m   \u001b[0mmodel_output\u001b[0m \u001b[0;34m=\u001b[0m \u001b[0mout\u001b[0m\u001b[0;34m[\u001b[0m\u001b[0;34m\"model_out\"\u001b[0m\u001b[0;34m]\u001b[0m\u001b[0;34m\u001b[0m\u001b[0;34m\u001b[0m\u001b[0m\n",
            "\u001b[0;31mNameError\u001b[0m: name 'net_2' is not defined"
          ]
        }
      ]
    },
    {
      "cell_type": "code",
      "metadata": {
        "id": "aW2TiStyTgwS"
      },
      "source": [
        "# torch.save(classifier, \"mnist_siren_classifier\")"
      ],
      "execution_count": null,
      "outputs": []
    },
    {
      "cell_type": "code",
      "metadata": {
        "id": "lSH3w1jJktuP"
      },
      "source": [
        ""
      ],
      "execution_count": null,
      "outputs": []
    }
  ]
}